{
 "cells": [
  {
   "cell_type": "markdown",
   "metadata": {},
   "source": [
    "# Optimization"
   ]
  },
  {
   "cell_type": "markdown",
   "metadata": {},
   "source": [
    "In this Notebook we are going to load the Disease model, execute and find the parameters that maximize economic output.\n",
    "\n",
    "- To load and run the Vensim model we use PySD library, please check the following tutorial before continuing: https://pysd.readthedocs.io/en/master/basic_usage.html#\n",
    "- Model run's output are Pandas Data Frames, please refer to the Pandas documentation if you need additional insights and supported data operations: https://pandas.pydata.org/pandas-docs/stable/user_guide/index.html#user-guide. \n",
    "There is also a 10min tutorial available that might be of your interest: https://pandas.pydata.org/pandas-docs/stable/user_guide/10min.html\n",
    "- We implemented the plots using matplotlib, if you need additional information please refer to the examples in canvas at \"Pre-requisites->Computer Installations->Python and useful packages to explore\". You may also refer to the following documentation: https://matplotlib.org/stable/contents.html"
   ]
  },
  {
   "cell_type": "code",
   "execution_count": 1,
   "metadata": {
    "scrolled": true
   },
   "outputs": [],
   "source": [
    "import pysd\n",
    "import matplotlib.pyplot as plt \n",
    "import numpy as np\n",
    "import pandas as pd\n",
    "import scipy as sp\n",
    "import scipy.optimize"
   ]
  },
  {
   "cell_type": "code",
   "execution_count": 2,
   "metadata": {},
   "outputs": [],
   "source": [
    "# load the Vensim model into Python\n",
    "model = pysd.read_vensim(r'C:\\Users\\dimcp\\Documents\\MSD-Group-1\\SFD_Group.mdl')"
   ]
  },
  {
   "cell_type": "code",
   "execution_count": 3,
   "metadata": {
    "scrolled": true
   },
   "outputs": [
    {
     "data": {
      "text/html": [
       "<div>\n",
       "<style scoped>\n",
       "    .dataframe tbody tr th:only-of-type {\n",
       "        vertical-align: middle;\n",
       "    }\n",
       "\n",
       "    .dataframe tbody tr th {\n",
       "        vertical-align: top;\n",
       "    }\n",
       "\n",
       "    .dataframe thead th {\n",
       "        text-align: right;\n",
       "    }\n",
       "</style>\n",
       "<table border=\"1\" class=\"dataframe\">\n",
       "  <thead>\n",
       "    <tr style=\"text-align: right;\">\n",
       "      <th></th>\n",
       "      <th>FINAL TIME</th>\n",
       "      <th>INITIAL TIME</th>\n",
       "      <th>SAVEPER</th>\n",
       "      <th>TIME STEP</th>\n",
       "      <th>Scaled divorce</th>\n",
       "      <th>Marriage rate</th>\n",
       "      <th>Delay for societal</th>\n",
       "      <th>Divorce</th>\n",
       "      <th>Societal factor</th>\n",
       "      <th>Population</th>\n",
       "      <th>...</th>\n",
       "      <th>Economic factor</th>\n",
       "      <th>Unmarried</th>\n",
       "      <th>K</th>\n",
       "      <th>Marriage</th>\n",
       "      <th>Married</th>\n",
       "      <th>Recovery rate</th>\n",
       "      <th>Divorce rate</th>\n",
       "      <th>Education</th>\n",
       "      <th>W eco</th>\n",
       "      <th>W soc</th>\n",
       "    </tr>\n",
       "  </thead>\n",
       "  <tbody>\n",
       "    <tr>\n",
       "      <th>1992.00</th>\n",
       "      <td>2018</td>\n",
       "      <td>1992</td>\n",
       "      <td>0.25</td>\n",
       "      <td>0.25</td>\n",
       "      <td>340.500009</td>\n",
       "      <td>0.123413</td>\n",
       "      <td>3</td>\n",
       "      <td>6.308103e+07</td>\n",
       "      <td>0.588623</td>\n",
       "      <td>185260000.0</td>\n",
       "      <td>...</td>\n",
       "      <td>0.53333</td>\n",
       "      <td>4.179500e+07</td>\n",
       "      <td>2.2</td>\n",
       "      <td>5.158054e+06</td>\n",
       "      <td>1.132950e+08</td>\n",
       "      <td>0.004</td>\n",
       "      <td>0.556786</td>\n",
       "      <td>0.9</td>\n",
       "      <td>0.649</td>\n",
       "      <td>0.338</td>\n",
       "    </tr>\n",
       "    <tr>\n",
       "      <th>1992.25</th>\n",
       "      <td>2018</td>\n",
       "      <td>1992</td>\n",
       "      <td>0.25</td>\n",
       "      <td>0.25</td>\n",
       "      <td>296.979169</td>\n",
       "      <td>0.123413</td>\n",
       "      <td>3</td>\n",
       "      <td>5.501836e+07</td>\n",
       "      <td>0.588623</td>\n",
       "      <td>185260000.0</td>\n",
       "      <td>...</td>\n",
       "      <td>0.53333</td>\n",
       "      <td>4.053566e+07</td>\n",
       "      <td>2.2</td>\n",
       "      <td>5.002634e+06</td>\n",
       "      <td>9.881426e+07</td>\n",
       "      <td>0.004</td>\n",
       "      <td>0.556786</td>\n",
       "      <td>0.9</td>\n",
       "      <td>0.649</td>\n",
       "      <td>0.338</td>\n",
       "    </tr>\n",
       "    <tr>\n",
       "      <th>1992.50</th>\n",
       "      <td>2018</td>\n",
       "      <td>1992</td>\n",
       "      <td>0.25</td>\n",
       "      <td>0.25</td>\n",
       "      <td>259.399497</td>\n",
       "      <td>0.123413</td>\n",
       "      <td>3</td>\n",
       "      <td>4.805635e+07</td>\n",
       "      <td>0.588623</td>\n",
       "      <td>185260000.0</td>\n",
       "      <td>...</td>\n",
       "      <td>0.53333</td>\n",
       "      <td>3.931517e+07</td>\n",
       "      <td>2.2</td>\n",
       "      <td>4.852010e+06</td>\n",
       "      <td>8.631032e+07</td>\n",
       "      <td>0.004</td>\n",
       "      <td>0.556786</td>\n",
       "      <td>0.9</td>\n",
       "      <td>0.649</td>\n",
       "      <td>0.338</td>\n",
       "    </tr>\n",
       "    <tr>\n",
       "      <th>1992.75</th>\n",
       "      <td>2018</td>\n",
       "      <td>1992</td>\n",
       "      <td>0.25</td>\n",
       "      <td>0.25</td>\n",
       "      <td>226.937609</td>\n",
       "      <td>0.123413</td>\n",
       "      <td>3</td>\n",
       "      <td>4.204246e+07</td>\n",
       "      <td>0.588623</td>\n",
       "      <td>185260000.0</td>\n",
       "      <td>...</td>\n",
       "      <td>0.53333</td>\n",
       "      <td>3.813365e+07</td>\n",
       "      <td>2.2</td>\n",
       "      <td>4.706194e+06</td>\n",
       "      <td>7.550924e+07</td>\n",
       "      <td>0.004</td>\n",
       "      <td>0.556786</td>\n",
       "      <td>0.9</td>\n",
       "      <td>0.649</td>\n",
       "      <td>0.338</td>\n",
       "    </tr>\n",
       "    <tr>\n",
       "      <th>1993.00</th>\n",
       "      <td>2018</td>\n",
       "      <td>1992</td>\n",
       "      <td>0.25</td>\n",
       "      <td>0.25</td>\n",
       "      <td>198.968492</td>\n",
       "      <td>0.123205</td>\n",
       "      <td>3</td>\n",
       "      <td>3.686090e+07</td>\n",
       "      <td>0.589316</td>\n",
       "      <td>185260000.0</td>\n",
       "      <td>...</td>\n",
       "      <td>0.53333</td>\n",
       "      <td>3.699093e+07</td>\n",
       "      <td>2.2</td>\n",
       "      <td>4.557469e+06</td>\n",
       "      <td>6.617517e+07</td>\n",
       "      <td>0.004</td>\n",
       "      <td>0.557020</td>\n",
       "      <td>0.9</td>\n",
       "      <td>0.649</td>\n",
       "      <td>0.338</td>\n",
       "    </tr>\n",
       "  </tbody>\n",
       "</table>\n",
       "<p>5 rows × 23 columns</p>\n",
       "</div>"
      ],
      "text/plain": [
       "         FINAL TIME  INITIAL TIME  SAVEPER  TIME STEP  Scaled divorce  \\\n",
       "1992.00        2018          1992     0.25       0.25      340.500009   \n",
       "1992.25        2018          1992     0.25       0.25      296.979169   \n",
       "1992.50        2018          1992     0.25       0.25      259.399497   \n",
       "1992.75        2018          1992     0.25       0.25      226.937609   \n",
       "1993.00        2018          1992     0.25       0.25      198.968492   \n",
       "\n",
       "         Marriage rate  Delay for societal       Divorce  Societal factor  \\\n",
       "1992.00       0.123413                   3  6.308103e+07         0.588623   \n",
       "1992.25       0.123413                   3  5.501836e+07         0.588623   \n",
       "1992.50       0.123413                   3  4.805635e+07         0.588623   \n",
       "1992.75       0.123413                   3  4.204246e+07         0.588623   \n",
       "1993.00       0.123205                   3  3.686090e+07         0.589316   \n",
       "\n",
       "          Population  ...  Economic factor     Unmarried    K      Marriage  \\\n",
       "1992.00  185260000.0  ...          0.53333  4.179500e+07  2.2  5.158054e+06   \n",
       "1992.25  185260000.0  ...          0.53333  4.053566e+07  2.2  5.002634e+06   \n",
       "1992.50  185260000.0  ...          0.53333  3.931517e+07  2.2  4.852010e+06   \n",
       "1992.75  185260000.0  ...          0.53333  3.813365e+07  2.2  4.706194e+06   \n",
       "1993.00  185260000.0  ...          0.53333  3.699093e+07  2.2  4.557469e+06   \n",
       "\n",
       "              Married  Recovery rate  Divorce rate  Education  W eco  W soc  \n",
       "1992.00  1.132950e+08          0.004      0.556786        0.9  0.649  0.338  \n",
       "1992.25  9.881426e+07          0.004      0.556786        0.9  0.649  0.338  \n",
       "1992.50  8.631032e+07          0.004      0.556786        0.9  0.649  0.338  \n",
       "1992.75  7.550924e+07          0.004      0.556786        0.9  0.649  0.338  \n",
       "1993.00  6.617517e+07          0.004      0.557020        0.9  0.649  0.338  \n",
       "\n",
       "[5 rows x 23 columns]"
      ]
     },
     "execution_count": 3,
     "metadata": {},
     "output_type": "execute_result"
    }
   ],
   "source": [
    "# run the model with default parameter values\n",
    "model_output = model.run()\n",
    "model_output.head(5)"
   ]
  },
  {
   "cell_type": "code",
   "execution_count": 4,
   "metadata": {},
   "outputs": [
    {
     "data": {
      "text/plain": [
       "['FINAL TIME',\n",
       " 'INITIAL TIME',\n",
       " 'SAVEPER',\n",
       " 'TIME STEP',\n",
       " 'Scaled divorce',\n",
       " 'Marriage rate',\n",
       " 'Delay for societal',\n",
       " 'Divorce',\n",
       " 'Societal factor',\n",
       " 'Population',\n",
       " 'Delay for recovery',\n",
       " 'Recovery',\n",
       " 'Divorced',\n",
       " 'Economic factor',\n",
       " 'Unmarried',\n",
       " 'K',\n",
       " 'Marriage',\n",
       " 'Married',\n",
       " 'Recovery rate',\n",
       " 'Divorce rate',\n",
       " 'Education',\n",
       " 'W eco',\n",
       " 'W soc']"
      ]
     },
     "execution_count": 4,
     "metadata": {},
     "output_type": "execute_result"
    }
   ],
   "source": [
    "# list all stocks, variables and parameters of the model\n",
    "list(model_output)"
   ]
  },
  {
   "cell_type": "code",
   "execution_count": 22,
   "metadata": {},
   "outputs": [
    {
     "data": {
      "text/plain": [
       "<Axes: xlabel='Year'>"
      ]
     },
     "execution_count": 22,
     "metadata": {},
     "output_type": "execute_result"
    },
    {
     "data": {
      "image/png": "[encoded data removed]",
      "text/plain": [
       "<Figure size 640x480 with 1 Axes>"
      ]
     },
     "metadata": {},
     "output_type": "display_data"
    }
   ],
   "source": [
    "data = pd.read_csv(r'C:\\Users\\dimcp\\Documents\\MSD-Group-1\\US_2002.csv', sep=',', index_col='Year')\n",
    "data.plot()"
   ]
  },
  {
   "cell_type": "code",
   "execution_count": 30,
   "metadata": {},
   "outputs": [
    {
     "name": "stdout",
     "output_type": "stream",
     "text": [
      " message: Optimization terminated successfully\n",
      " success: True\n",
      "  status: 0\n",
      "     fun: 0.21282317328041087\n",
      "       x: [ 2.993e+00  3.634e-01  1.134e-17  2.041e-03  4.660e-01]\n",
      "     nit: 37\n",
      "     jac: [ 3.732e-03  3.406e-03  3.203e-02 -8.908e-01 -1.537e-04]\n",
      "    nfev: 242\n",
      "    njev: 37\n"
     ]
    }
   ],
   "source": [
    "import scipy.optimize as opt\n",
    "import warnings\n",
    "warnings.filterwarnings(\"ignore\")\n",
    "# Your error function remains the same\n",
    "def error(param_list):\n",
    "    #unpack the parameter list\n",
    "    parameter1, parameter2, parameter3, parameter4, parameter5 = param_list\n",
    "    #run the model with the new parameters, returning the info we're interested in\n",
    "    result = model.run(params={'K':parameter1,\n",
    "                               'W soc':parameter2,\n",
    "                               'W eco': parameter3,\n",
    "                               'Recovery Rate': parameter4,\n",
    "                               'Delay for societal': parameter5},\n",
    "                       return_columns=['Divorce', 'Population'],\n",
    "                       return_timestamps=list(data.index.values))#return_timestamps=np.arange(2002, 2018, 1))\n",
    "    #return the sum of the squared errors\n",
    "    return sum((result['Divorce']/result['Population'] *1000- data['United States'])**2)\n",
    "\n",
    "# Define the constraint function\n",
    "def constraint(param_list):\n",
    "    return 1 - (param_list[1] + param_list[2])\n",
    "\n",
    "# Define the constraints dictionary\n",
    "constraints = [{'type': 'ineq', 'fun': constraint}]\n",
    "\n",
    "# Initial guesses and bounds remain the same\n",
    "parameter1_guess = 1\n",
    "parameter2_guess = 0.33\n",
    "parameter3_guess = 0.33\n",
    "parameter4_guess = 0.4\n",
    "parameter5_guess = 3\n",
    "\n",
    "parameter1_bounds = (-4, 4)\n",
    "parameter2_bounds = (0, 1)\n",
    "parameter3_bounds = (0, 1)\n",
    "parameter4_bounds = (0, 1)\n",
    "parameter5_bounds = (0, 10)\n",
    "\n",
    "# Perform the optimization using SLSQP method\n",
    "res = opt.minimize(error, [parameter1_guess,\n",
    "                           parameter2_guess,\n",
    "                           parameter3_guess,\n",
    "                           parameter4_guess,\n",
    "                           parameter5_guess],\n",
    "                   method='SLSQP',\n",
    "                   bounds=[parameter1_bounds,\n",
    "                           parameter2_bounds,\n",
    "                           parameter3_bounds,\n",
    "                           parameter4_bounds,\n",
    "                           parameter5_bounds],\n",
    "                   constraints=constraints)\n",
    "\n",
    "# Print the result\n",
    "print(res)\n"
   ]
  },
  {
   "cell_type": "markdown",
   "metadata": {},
   "source": [
    " message: Optimization terminated successfully\n",
    " success: True\n",
    "  status: 0\n",
    "     fun: 7.322963089048839\n",
    "       x: [ 2.226e+00  3.381e-01  6.493e-01  4.225e-03  3.000e+00]\n",
    "     nit: 12\n",
    "     jac: [ 9.513e-04  2.027e-06  3.785e-05 -2.719e+00 -1.192e-07]\n",
    "    nfev: 79\n",
    "    njev: 12\n",
    "    "
   ]
  },
  {
   "cell_type": "code",
   "execution_count": 39,
   "metadata": {},
   "outputs": [
    {
     "name": "stdout",
     "output_type": "stream",
     "text": [
      " message: Optimization terminated successfully\n",
      " success: True\n",
      "  status: 0\n",
      "     fun: 0.21282317328041087\n",
      "       x: [ 2.993e+00  3.634e-01  1.134e-17  2.041e-03  4.660e-01]\n",
      "     nit: 37\n",
      "     jac: [ 3.732e-03  3.406e-03  3.203e-02 -8.908e-01 -1.537e-04]\n",
      "    nfev: 242\n",
      "    njev: 37\n",
      "              Divorce   Population  Scaled divorce\n",
      "2002.0  734307.991070  185260000.0        3.963662\n",
      "2003.0  715696.978757  185260000.0        3.863203\n",
      "2004.0  700294.225330  185260000.0        3.780062\n",
      "2005.0  686517.935178  185260000.0        3.705700\n",
      "2006.0  673745.903411  185260000.0        3.636759\n",
      "2007.0  661714.352762  185260000.0        3.571814\n",
      "2008.0  650296.589903  185260000.0        3.510183\n",
      "2009.0  639420.699890  185260000.0        3.451477\n",
      "2010.0  629038.385290  185260000.0        3.395436\n",
      "2011.0  619112.777911  185260000.0        3.341859\n",
      "2012.0  609613.396722  185260000.0        3.290583\n",
      "2013.0  600513.872249  185260000.0        3.241465\n",
      "2014.0  591790.793421  185260000.0        3.194380\n",
      "2015.0  583423.044667  185260000.0        3.149212\n",
      "2016.0  575391.379737  185260000.0        3.105859\n",
      "2017.0  567678.123670  185260000.0        3.064224\n",
      "2018.0  560266.951910  185260000.0        3.024220\n"
     ]
    },
    {
     "data": {
      "text/plain": [
       "Text(2, 9000, '')"
      ]
     },
     "execution_count": 39,
     "metadata": {},
     "output_type": "execute_result"
    },
    {
     "data": {
      "image/png": "[encoded data removed]",
      "text/plain": [
       "<Figure size 640x480 with 1 Axes>"
      ]
     },
     "metadata": {},
     "output_type": "display_data"
    }
   ],
   "source": [
    "parameter1, parameter2, parameter3, parameter4, parameter5 = res.x\n",
    "print(res)\n",
    "result = model.run(params={'K':parameter1,\n",
    "                           'W soc':parameter2,\n",
    "                           'W eco':parameter3,\n",
    "                           'Recovery rate':parameter4,\n",
    "                           'Delay for societal':parameter5},\n",
    "                   return_columns=['Divorce','Population','Scaled divorce'],\n",
    "                   return_timestamps=list(data.index.values))\n",
    "\n",
    "print(result)\n",
    "\n",
    "plt.plot(result.index, result['Divorce']/result['Population'] *1000, label='Simulated')\n",
    "plt.plot(data.index, data['United States'], label='Historical')\n",
    "plt.xlabel('Time [Years]')\n",
    "plt.ylabel('Divorce per 1000')\n",
    "plt.title('Model fit to data')\n",
    "plt.legend(loc='lower left')\n",
    "plt.text(2,9000, '', color='r', fontsize=12)"
   ]
  },
  {
   "cell_type": "markdown",
   "metadata": {},
   "source": [
    "message: Optimization terminated successfully\n",
    " success: True\n",
    "  status: 0\n",
    "     fun: 0.21282317328041087\n",
    "       x: [ 2.993e+00  3.634e-01  1.134e-17  2.041e-03  4.660e-01]\n",
    "     nit: 37\n",
    "     jac: [ 3.732e-03  3.406e-03  3.203e-02 -8.908e-01 -1.537e-04]\n",
    "    nfev: 242\n",
    "    njev: 37"
   ]
  }
 ],
 "metadata": {
  "kernelspec": {
   "display_name": "Python 3 (ipykernel)",
   "language": "python",
   "name": "python3"
  },
  "language_info": {
   "codemirror_mode": {
    "name": "ipython",
    "version": 3
   },
   "file_extension": ".py",
   "mimetype": "text/x-python",
   "name": "python",
   "nbconvert_exporter": "python",
   "pygments_lexer": "ipython3",
   "version": "3.10.9"
  },
  "vscode": {
   "interpreter": {
    "hash": "a334dcf343fc20567253aab47b2e01789b39adc6f1e54bcc9222dfc256d5b0f9"
   }
  }
 },
 "nbformat": 4,
 "nbformat_minor": 4
}
