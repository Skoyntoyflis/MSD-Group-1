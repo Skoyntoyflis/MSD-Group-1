{
 "cells": [
  {
   "cell_type": "markdown",
   "metadata": {},
   "source": [
    "# Optimization"
   ]
  },
  {
   "cell_type": "markdown",
   "metadata": {},
   "source": [
    "In this Notebook we are going to load the Disease model, execute and find the parameters that maximize economic output.\n",
    "\n",
    "- To load and run the Vensim model we use PySD library, please check the following tutorial before continuing: https://pysd.readthedocs.io/en/master/basic_usage.html#\n",
    "- Model run's output are Pandas Data Frames, please refer to the Pandas documentation if you need additional insights and supported data operations: https://pandas.pydata.org/pandas-docs/stable/user_guide/index.html#user-guide. \n",
    "There is also a 10min tutorial available that might be of your interest: https://pandas.pydata.org/pandas-docs/stable/user_guide/10min.html\n",
    "- We implemented the plots using matplotlib, if you need additional information please refer to the examples in canvas at \"Pre-requisites->Computer Installations->Python and useful packages to explore\". You may also refer to the following documentation: https://matplotlib.org/stable/contents.html"
   ]
  },
  {
   "cell_type": "code",
   "execution_count": 1,
   "metadata": {
    "scrolled": true
   },
   "outputs": [],
   "source": [
    "import pysd\n",
    "import matplotlib.pyplot as plt \n",
    "import numpy as np\n",
    "import pandas as pd\n",
    "import scipy as sp"
   ]
  },
  {
   "cell_type": "code",
   "execution_count": 35,
   "metadata": {},
   "outputs": [],
   "source": [
    "# load the Vensim model into Python\n",
    "model = pysd.read_vensim('C:/Users/Coldr/Documents./SFD_Group.mdl')"
   ]
  },
  {
   "cell_type": "code",
   "execution_count": 17,
   "metadata": {
    "scrolled": true
   },
   "outputs": [
    {
     "data": {
      "text/html": [
       "<div>\n",
       "<style scoped>\n",
       "    .dataframe tbody tr th:only-of-type {\n",
       "        vertical-align: middle;\n",
       "    }\n",
       "\n",
       "    .dataframe tbody tr th {\n",
       "        vertical-align: top;\n",
       "    }\n",
       "\n",
       "    .dataframe thead th {\n",
       "        text-align: right;\n",
       "    }\n",
       "</style>\n",
       "<table border=\"1\" class=\"dataframe\">\n",
       "  <thead>\n",
       "    <tr style=\"text-align: right;\">\n",
       "      <th></th>\n",
       "      <th>FINAL TIME</th>\n",
       "      <th>INITIAL TIME</th>\n",
       "      <th>SAVEPER</th>\n",
       "      <th>TIME STEP</th>\n",
       "      <th>Marriage rate</th>\n",
       "      <th>Delay for societal</th>\n",
       "      <th>Divorce</th>\n",
       "      <th>Societal factor</th>\n",
       "      <th>Population</th>\n",
       "      <th>Delay for recovery</th>\n",
       "      <th>...</th>\n",
       "      <th>Economic factor</th>\n",
       "      <th>Unmarried</th>\n",
       "      <th>K</th>\n",
       "      <th>Marriage</th>\n",
       "      <th>Married</th>\n",
       "      <th>Recovery rate</th>\n",
       "      <th>Divorce rate</th>\n",
       "      <th>Education</th>\n",
       "      <th>W eco</th>\n",
       "      <th>W soc</th>\n",
       "    </tr>\n",
       "  </thead>\n",
       "  <tbody>\n",
       "    <tr>\n",
       "      <th>0.000000</th>\n",
       "      <td>30</td>\n",
       "      <td>0</td>\n",
       "      <td>0.015625</td>\n",
       "      <td>0.015625</td>\n",
       "      <td>0.141213</td>\n",
       "      <td>0.5</td>\n",
       "      <td>7.439677e+07</td>\n",
       "      <td>0.529289</td>\n",
       "      <td>257226000.0</td>\n",
       "      <td>3</td>\n",
       "      <td>...</td>\n",
       "      <td>0.53333</td>\n",
       "      <td>1.137610e+08</td>\n",
       "      <td>1</td>\n",
       "      <td>1.606457e+07</td>\n",
       "      <td>1.132950e+08</td>\n",
       "      <td>0.3</td>\n",
       "      <td>0.656664</td>\n",
       "      <td>0.9</td>\n",
       "      <td>0.33</td>\n",
       "      <td>0.33</td>\n",
       "    </tr>\n",
       "    <tr>\n",
       "      <th>0.015625</th>\n",
       "      <td>30</td>\n",
       "      <td>0</td>\n",
       "      <td>0.015625</td>\n",
       "      <td>0.015625</td>\n",
       "      <td>0.141213</td>\n",
       "      <td>0.5</td>\n",
       "      <td>7.379826e+07</td>\n",
       "      <td>0.529289</td>\n",
       "      <td>257226000.0</td>\n",
       "      <td>3</td>\n",
       "      <td>...</td>\n",
       "      <td>0.53333</td>\n",
       "      <td>1.136514e+08</td>\n",
       "      <td>1</td>\n",
       "      <td>1.604909e+07</td>\n",
       "      <td>1.123836e+08</td>\n",
       "      <td>0.3</td>\n",
       "      <td>0.656664</td>\n",
       "      <td>0.9</td>\n",
       "      <td>0.33</td>\n",
       "      <td>0.33</td>\n",
       "    </tr>\n",
       "    <tr>\n",
       "      <th>0.031250</th>\n",
       "      <td>30</td>\n",
       "      <td>0</td>\n",
       "      <td>0.015625</td>\n",
       "      <td>0.015625</td>\n",
       "      <td>0.141204</td>\n",
       "      <td>0.5</td>\n",
       "      <td>7.320687e+07</td>\n",
       "      <td>0.529320</td>\n",
       "      <td>257226000.0</td>\n",
       "      <td>3</td>\n",
       "      <td>...</td>\n",
       "      <td>0.53333</td>\n",
       "      <td>1.135421e+08</td>\n",
       "      <td>1</td>\n",
       "      <td>1.603260e+07</td>\n",
       "      <td>1.114812e+08</td>\n",
       "      <td>0.3</td>\n",
       "      <td>0.656674</td>\n",
       "      <td>0.9</td>\n",
       "      <td>0.33</td>\n",
       "      <td>0.33</td>\n",
       "    </tr>\n",
       "    <tr>\n",
       "      <th>0.046875</th>\n",
       "      <td>30</td>\n",
       "      <td>0</td>\n",
       "      <td>0.015625</td>\n",
       "      <td>0.015625</td>\n",
       "      <td>0.141186</td>\n",
       "      <td>0.5</td>\n",
       "      <td>7.262244e+07</td>\n",
       "      <td>0.529380</td>\n",
       "      <td>257226000.0</td>\n",
       "      <td>3</td>\n",
       "      <td>...</td>\n",
       "      <td>0.53333</td>\n",
       "      <td>1.134330e+08</td>\n",
       "      <td>1</td>\n",
       "      <td>1.601514e+07</td>\n",
       "      <td>1.105879e+08</td>\n",
       "      <td>0.3</td>\n",
       "      <td>0.656694</td>\n",
       "      <td>0.9</td>\n",
       "      <td>0.33</td>\n",
       "      <td>0.33</td>\n",
       "    </tr>\n",
       "    <tr>\n",
       "      <th>0.062500</th>\n",
       "      <td>30</td>\n",
       "      <td>0</td>\n",
       "      <td>0.015625</td>\n",
       "      <td>0.015625</td>\n",
       "      <td>0.141159</td>\n",
       "      <td>0.5</td>\n",
       "      <td>7.204483e+07</td>\n",
       "      <td>0.529469</td>\n",
       "      <td>257226000.0</td>\n",
       "      <td>3</td>\n",
       "      <td>...</td>\n",
       "      <td>0.53333</td>\n",
       "      <td>1.133243e+08</td>\n",
       "      <td>1</td>\n",
       "      <td>1.599676e+07</td>\n",
       "      <td>1.097034e+08</td>\n",
       "      <td>0.3</td>\n",
       "      <td>0.656724</td>\n",
       "      <td>0.9</td>\n",
       "      <td>0.33</td>\n",
       "      <td>0.33</td>\n",
       "    </tr>\n",
       "  </tbody>\n",
       "</table>\n",
       "<p>5 rows × 22 columns</p>\n",
       "</div>"
      ],
      "text/plain": [
       "          FINAL TIME  INITIAL TIME   SAVEPER  TIME STEP  Marriage rate  \\\n",
       "0.000000          30             0  0.015625   0.015625       0.141213   \n",
       "0.015625          30             0  0.015625   0.015625       0.141213   \n",
       "0.031250          30             0  0.015625   0.015625       0.141204   \n",
       "0.046875          30             0  0.015625   0.015625       0.141186   \n",
       "0.062500          30             0  0.015625   0.015625       0.141159   \n",
       "\n",
       "          Delay for societal       Divorce  Societal factor   Population  \\\n",
       "0.000000                 0.5  7.439677e+07         0.529289  257226000.0   \n",
       "0.015625                 0.5  7.379826e+07         0.529289  257226000.0   \n",
       "0.031250                 0.5  7.320687e+07         0.529320  257226000.0   \n",
       "0.046875                 0.5  7.262244e+07         0.529380  257226000.0   \n",
       "0.062500                 0.5  7.204483e+07         0.529469  257226000.0   \n",
       "\n",
       "          Delay for recovery  ...  Economic factor     Unmarried  K  \\\n",
       "0.000000                   3  ...          0.53333  1.137610e+08  1   \n",
       "0.015625                   3  ...          0.53333  1.136514e+08  1   \n",
       "0.031250                   3  ...          0.53333  1.135421e+08  1   \n",
       "0.046875                   3  ...          0.53333  1.134330e+08  1   \n",
       "0.062500                   3  ...          0.53333  1.133243e+08  1   \n",
       "\n",
       "              Marriage       Married  Recovery rate  Divorce rate  Education  \\\n",
       "0.000000  1.606457e+07  1.132950e+08            0.3      0.656664        0.9   \n",
       "0.015625  1.604909e+07  1.123836e+08            0.3      0.656664        0.9   \n",
       "0.031250  1.603260e+07  1.114812e+08            0.3      0.656674        0.9   \n",
       "0.046875  1.601514e+07  1.105879e+08            0.3      0.656694        0.9   \n",
       "0.062500  1.599676e+07  1.097034e+08            0.3      0.656724        0.9   \n",
       "\n",
       "          W eco  W soc  \n",
       "0.000000   0.33   0.33  \n",
       "0.015625   0.33   0.33  \n",
       "0.031250   0.33   0.33  \n",
       "0.046875   0.33   0.33  \n",
       "0.062500   0.33   0.33  \n",
       "\n",
       "[5 rows x 22 columns]"
      ]
     },
     "execution_count": 17,
     "metadata": {},
     "output_type": "execute_result"
    }
   ],
   "source": [
    "# run the model with default parameter values\n",
    "model_output = model.run()\n",
    "model_output.head(5)"
   ]
  },
  {
   "cell_type": "code",
   "execution_count": 18,
   "metadata": {},
   "outputs": [
    {
     "data": {
      "text/plain": [
       "['FINAL TIME',\n",
       " 'INITIAL TIME',\n",
       " 'SAVEPER',\n",
       " 'TIME STEP',\n",
       " 'Marriage rate',\n",
       " 'Delay for societal',\n",
       " 'Divorce',\n",
       " 'Societal factor',\n",
       " 'Population',\n",
       " 'Delay for recovery',\n",
       " 'Recovery',\n",
       " 'Divorced',\n",
       " 'Economic factor',\n",
       " 'Unmarried',\n",
       " 'K',\n",
       " 'Marriage',\n",
       " 'Married',\n",
       " 'Recovery rate',\n",
       " 'Divorce rate',\n",
       " 'Education',\n",
       " 'W eco',\n",
       " 'W soc']"
      ]
     },
     "execution_count": 18,
     "metadata": {},
     "output_type": "execute_result"
    }
   ],
   "source": [
    "# list all stocks, variables and parameters of the model\n",
    "list(model_output)"
   ]
  },
  {
   "cell_type": "code",
   "execution_count": 622,
   "metadata": {
    "scrolled": true
   },
   "outputs": [
    {
     "data": {
      "image/png": "[encoded data removed]",
      "text/plain": [
       "<Figure size 640x480 with 1 Axes>"
      ]
     },
     "metadata": {},
     "output_type": "display_data"
    }
   ],
   "source": [
    "# plot Nutrients for a given Initial Nutrients Value\n",
    "model_output = model.run(params={'Initial Nutrients': 1},\n",
    "                         return_timestamps=np.arange(0, 60, 1),\n",
    "                         return_columns=['Nutrients'])\n",
    "model_output.plot()\n",
    "plt.ylabel('Nutrients')\n",
    "plt.xlabel('time (days)')\n",
    "plt.show()"
   ]
  },
  {
   "cell_type": "code",
   "execution_count": 629,
   "metadata": {},
   "outputs": [],
   "source": [
    "# vary the Initial Nutrients and observe its impact on Nutrients\n",
    "observable1 = 'Nutrients'\n",
    "parameter1 = 'Initial Nutrients'\n",
    "parameter1_range = np.arange(0, 10, 0.1)\n",
    "\n",
    "# lists to store output values\n",
    "parameter1_values = []\n",
    "observable_values = []\n",
    "\n",
    "# go through all values of parameter 1\n",
    "for parameter1_value in parameter1_range:\n",
    "    \n",
    "    # this can be adjusted to achieve more repetitions\n",
    "    for i in np.arange(0, 3, 1):\n",
    "\n",
    "        # run the model at the given value for parameter 1\n",
    "        result = model.run(params={parameter1: parameter1_value}, \n",
    "                           return_timestamps=[60],\n",
    "                           return_columns=[observable1])\n",
    "\n",
    "        # store results\n",
    "        parameter1_values.append(parameter1_value)\n",
    "        observable_values.append(result.loc[60, observable1])\n",
    "\n",
    "\n",
    "# collect results in a DataFrame\n",
    "output = pd.DataFrame({parameter1: parameter1_values, observable1: observable_values})"
   ]
  },
  {
   "cell_type": "code",
   "execution_count": 627,
   "metadata": {},
   "outputs": [
    {
     "data": {
      "text/html": [
       "<div>\n",
       "<style scoped>\n",
       "    .dataframe tbody tr th:only-of-type {\n",
       "        vertical-align: middle;\n",
       "    }\n",
       "\n",
       "    .dataframe tbody tr th {\n",
       "        vertical-align: top;\n",
       "    }\n",
       "\n",
       "    .dataframe thead th {\n",
       "        text-align: right;\n",
       "    }\n",
       "</style>\n",
       "<table border=\"1\" class=\"dataframe\">\n",
       "  <thead>\n",
       "    <tr style=\"text-align: right;\">\n",
       "      <th></th>\n",
       "      <th>Bacteria Population</th>\n",
       "    </tr>\n",
       "    <tr>\n",
       "      <th>Initial Nutrients</th>\n",
       "      <th></th>\n",
       "    </tr>\n",
       "  </thead>\n",
       "  <tbody>\n",
       "    <tr>\n",
       "      <th>0.0</th>\n",
       "      <td>9.868654e+08</td>\n",
       "    </tr>\n",
       "    <tr>\n",
       "      <th>0.1</th>\n",
       "      <td>9.859826e+08</td>\n",
       "    </tr>\n",
       "    <tr>\n",
       "      <th>0.2</th>\n",
       "      <td>9.863057e+08</td>\n",
       "    </tr>\n",
       "    <tr>\n",
       "      <th>0.3</th>\n",
       "      <td>9.864907e+08</td>\n",
       "    </tr>\n",
       "    <tr>\n",
       "      <th>0.4</th>\n",
       "      <td>9.864548e+08</td>\n",
       "    </tr>\n",
       "    <tr>\n",
       "      <th>...</th>\n",
       "      <td>...</td>\n",
       "    </tr>\n",
       "    <tr>\n",
       "      <th>9.5</th>\n",
       "      <td>9.875493e+08</td>\n",
       "    </tr>\n",
       "    <tr>\n",
       "      <th>9.6</th>\n",
       "      <td>9.875968e+08</td>\n",
       "    </tr>\n",
       "    <tr>\n",
       "      <th>9.7</th>\n",
       "      <td>9.877460e+08</td>\n",
       "    </tr>\n",
       "    <tr>\n",
       "      <th>9.8</th>\n",
       "      <td>9.878078e+08</td>\n",
       "    </tr>\n",
       "    <tr>\n",
       "      <th>9.9</th>\n",
       "      <td>9.880222e+08</td>\n",
       "    </tr>\n",
       "  </tbody>\n",
       "</table>\n",
       "<p>100 rows × 1 columns</p>\n",
       "</div>"
      ],
      "text/plain": [
       "                   Bacteria Population\n",
       "Initial Nutrients                     \n",
       "0.0                       9.868654e+08\n",
       "0.1                       9.859826e+08\n",
       "0.2                       9.863057e+08\n",
       "0.3                       9.864907e+08\n",
       "0.4                       9.864548e+08\n",
       "...                                ...\n",
       "9.5                       9.875493e+08\n",
       "9.6                       9.875968e+08\n",
       "9.7                       9.877460e+08\n",
       "9.8                       9.878078e+08\n",
       "9.9                       9.880222e+08\n",
       "\n",
       "[100 rows x 1 columns]"
      ]
     },
     "execution_count": 627,
     "metadata": {},
     "output_type": "execute_result"
    }
   ],
   "source": [
    "# print the (average) Nutrients for each parameter value\n",
    "output.groupby(parameter1).mean()"
   ]
  },
  {
   "cell_type": "code",
   "execution_count": 628,
   "metadata": {},
   "outputs": [
    {
     "data": {
      "image/png": "[encoded data removed]",
      "text/plain": [
       "<Figure size 640x480 with 1 Axes>"
      ]
     },
     "metadata": {},
     "output_type": "display_data"
    }
   ],
   "source": [
    "# plot the observable as a function of the parameter values\n",
    "output.groupby(parameter1).mean().plot()\n",
    "plt.show()"
   ]
  },
  {
   "cell_type": "markdown",
   "metadata": {},
   "source": [
    "## Maximising the Value of an Observable"
   ]
  },
  {
   "cell_type": "markdown",
   "metadata": {},
   "source": [
    "### Optimisation using Two Parameters"
   ]
  },
  {
   "cell_type": "code",
   "execution_count": 385,
   "metadata": {},
   "outputs": [],
   "source": [
    "observable = 'Divorce'\n",
    "parameter1 = 'K'\n",
    "parameter2 = 'W soc'\n",
    "parameter3 = 'W eco'\n",
    "parameter4 = 'Delay for societal'\n",
    "parameter5 = 'Recovery Rate'\n",
    "\n",
    "\n",
    "\n",
    "def observable_neg(param_list):\n",
    "    '''\n",
    "    This function returns the negated value of the observable (possibly \n",
    "    averaged over multiple runs) given the values of two parameters in param_list.\n",
    "\n",
    "    The function is used when maximising the value of the observable using\n",
    "    the two parameters.\n",
    "    '''\n",
    "\n",
    "    # unpack the parameter list\n",
    "    parameter1_value, parameter2_value = param_list\n",
    "\n",
    "    # create a list to store the observable values in\n",
    "    observable_values = []\n",
    "\n",
    "    # adjust this to change the number of repetitions\n",
    "    for i in np.arange(0, 10, 1):\n",
    "\n",
    "        # run the model with the given parameters, returning the info we're interested in\n",
    "        result = model.run(params={parameter1: parameter1_value,\n",
    "                                   parameter2: parameter2_value},\n",
    "                           return_timestamps=[60],\n",
    "                           return_columns=[observable])\n",
    "\n",
    "        # store value of observable\n",
    "        observable_values.append(result.loc[60, observable])\n",
    "\n",
    "    # return the value to be minimized \n",
    "    # (we add a '-' sign because our goal is to maximize)\n",
    "    return -np.mean(observable_values)"
   ]
  },
  {
   "cell_type": "code",
   "execution_count": 386,
   "metadata": {},
   "outputs": [
    {
     "data": {
      "text/plain": [
       "-995624549.0399052"
      ]
     },
     "execution_count": 386,
     "metadata": {},
     "output_type": "execute_result"
    }
   ],
   "source": [
    "# test the function we created\n",
    "parameter1_guess = 10\n",
    "parameter2_guess = 1\n",
    "observable_neg([parameter1_guess, parameter2_guess])"
   ]
  },
  {
   "cell_type": "code",
   "execution_count": 387,
   "metadata": {},
   "outputs": [
    {
     "data": {
      "text/plain": [
       "  message: CONVERGENCE: REL_REDUCTION_OF_F_<=_FACTR*EPSMCH\n",
       "  success: True\n",
       "   status: 0\n",
       "      fun: -957721101.4935167\n",
       "        x: [ 1.000e+00  4.000e-01]\n",
       "      nit: 1\n",
       "      jac: [-4.150e+12  5.522e+12]\n",
       "     nfev: 51\n",
       "     njev: 17\n",
       " hess_inv: <2x2 LbfgsInvHessProduct with dtype=float64>"
      ]
     },
     "execution_count": 387,
     "metadata": {},
     "output_type": "execute_result"
    }
   ],
   "source": [
    "### find value of parameter 1 that maximises the observable\n",
    "\n",
    "# we need an initial guess an bounds for both parameters\n",
    "parameter1_guess = 1\n",
    "parameter1_bounds = (0, 10)\n",
    "\n",
    "parameter2_guess = 0.4\n",
    "parameter2_bounds = (0, 1)\n",
    "\n",
    "res = sp.optimize.minimize(observable_neg,\n",
    "                           x0=[parameter1_guess, parameter2_guess],\n",
    "                           method='L-BFGS-B',\n",
    "                           bounds=[parameter1_bounds, parameter2_bounds])\n",
    "res"
   ]
  },
  {
   "cell_type": "code",
   "execution_count": 33,
   "metadata": {},
   "outputs": [],
   "source": [
    "import pysd\n",
    "import scipy.optimize"
   ]
  },
  {
   "cell_type": "code",
   "execution_count": 19,
   "metadata": {},
   "outputs": [
    {
     "data": {
      "text/plain": [
       "<Axes: xlabel='Year'>"
      ]
     },
     "execution_count": 19,
     "metadata": {},
     "output_type": "execute_result"
    },
    {
     "data": {
      "image/png": "[encoded data removed]",
      "text/plain": [
       "<Figure size 640x480 with 1 Axes>"
      ]
     },
     "metadata": {},
     "output_type": "display_data"
    }
   ],
   "source": [
    "data = pd.read_csv('C:/Users/Coldr/Documents/US-Mexico.csv', sep=',', index_col='Year')\n",
    "data.plot()"
   ]
  },
  {
   "cell_type": "code",
   "execution_count": 50,
   "metadata": {},
   "outputs": [
    {
     "data": {
      "text/plain": [
       "189001.81701336248"
      ]
     },
     "execution_count": 50,
     "metadata": {},
     "output_type": "execute_result"
    }
   ],
   "source": [
    "def error(param_list):\n",
    "    #unpack the parameter list\n",
    "    parameter1, parameter2, parameter3, parameter4, parameter5 = param_list\n",
    "    #run the model with the new parameters, returning the info we're interested in\n",
    "    result = model.run(params={'K':parameter1,\n",
    "                               'W soc':parameter2,\n",
    "                               'W eco': parameter3,\n",
    "                               'Recovery Rate': parameter4,\n",
    "                               'Delay for societal': parameter5},\n",
    "                       return_columns=['Divorce', 'Population'],\n",
    "                       return_timestamps=list(data.index.values))\n",
    "    #return the sum of the squared errors\n",
    "    return sum((result['Divorce']/result['Population'] *1000- data['United States'])**2)\n",
    "cons = [{'type': 'ineq', 'fun': lambda x: parameter2_guess + parameter3_guess - 1}]\n",
    "    \n",
    "error([1, 0.3, 0.3, 0.4, 10])"
   ]
  },
  {
   "cell_type": "code",
   "execution_count": 51,
   "metadata": {},
   "outputs": [],
   "source": [
    "parameter1_guess = 1\n",
    "parameter2_guess = 0.3\n",
    "parameter3_guess = 0.3\n",
    "parameter4_guess = 0.4\n",
    "parameter5_guess = 10\n",
    "\n",
    "parameter1_bounds = (-4, 4)\n",
    "parameter2_bounds = (0, 1)\n",
    "parameter3_bounds = (0,1)\n",
    "parameter4_bounds = (0,1)\n",
    "parameter5_bounds = (0,10)"
   ]
  },
  {
   "cell_type": "code",
   "execution_count": 56,
   "metadata": {},
   "outputs": [
    {
     "name": "stderr",
     "output_type": "stream",
     "text": [
      "C:\\Users\\Coldr\\Documents.\\SFD_Group.py:158: RuntimeWarning: overflow encountered in exp\n",
      "  lambda: 1,\n",
      "C:\\Users\\Coldr\\Documents.\\SFD_Group.py:158: RuntimeWarning: divide by zero encountered in double_scalars\n",
      "  lambda: 1,\n",
      "C:\\Users\\Coldr\\Documents.\\SFD_Group.py:158: RuntimeWarning: overflow encountered in exp\n",
      "  lambda: 1,\n",
      "C:\\Users\\Coldr\\Documents.\\SFD_Group.py:158: RuntimeWarning: overflow encountered in exp\n",
      "  lambda: 1,\n",
      "C:\\Users\\Coldr\\Documents.\\SFD_Group.py:158: RuntimeWarning: overflow encountered in exp\n",
      "  lambda: 1,\n",
      "C:\\Users\\Coldr\\Documents.\\SFD_Group.py:158: RuntimeWarning: overflow encountered in exp\n",
      "  lambda: 1,\n",
      "C:\\Users\\Coldr\\Documents.\\SFD_Group.py:158: RuntimeWarning: overflow encountered in exp\n",
      "  lambda: 1,\n",
      "C:\\Users\\Coldr\\Documents.\\SFD_Group.py:158: RuntimeWarning: overflow encountered in exp\n",
      "  lambda: 1,\n",
      "C:\\Users\\Coldr\\Documents.\\SFD_Group.py:158: RuntimeWarning: overflow encountered in exp\n",
      "  lambda: 1,\n",
      "C:\\Users\\Coldr\\Documents.\\SFD_Group.py:158: RuntimeWarning: overflow encountered in exp\n",
      "  lambda: 1,\n",
      "C:\\Users\\Coldr\\Documents.\\SFD_Group.py:158: RuntimeWarning: overflow encountered in exp\n",
      "  lambda: 1,\n",
      "C:\\Users\\Coldr\\Documents.\\SFD_Group.py:158: RuntimeWarning: overflow encountered in exp\n",
      "  lambda: 1,\n",
      "C:\\Users\\Coldr\\Documents.\\SFD_Group.py:158: RuntimeWarning: overflow encountered in exp\n",
      "  lambda: 1,\n",
      "C:\\Users\\Coldr\\Documents.\\SFD_Group.py:158: RuntimeWarning: divide by zero encountered in double_scalars\n",
      "  lambda: 1,\n",
      "C:\\Users\\Coldr\\Documents.\\SFD_Group.py:158: RuntimeWarning: overflow encountered in exp\n",
      "  lambda: 1,\n",
      "C:\\Users\\Coldr\\Documents.\\SFD_Group.py:158: RuntimeWarning: divide by zero encountered in double_scalars\n",
      "  lambda: 1,\n",
      "C:\\Users\\Coldr\\Documents.\\SFD_Group.py:158: RuntimeWarning: overflow encountered in exp\n",
      "  lambda: 1,\n",
      "C:\\Users\\Coldr\\Documents.\\SFD_Group.py:158: RuntimeWarning: overflow encountered in exp\n",
      "  lambda: 1,\n",
      "C:\\Users\\Coldr\\Documents.\\SFD_Group.py:158: RuntimeWarning: divide by zero encountered in double_scalars\n",
      "  lambda: 1,\n",
      "C:\\Users\\Coldr\\Documents.\\SFD_Group.py:158: RuntimeWarning: overflow encountered in exp\n",
      "  lambda: 1,\n",
      "C:\\Users\\Coldr\\Documents.\\SFD_Group.py:158: RuntimeWarning: overflow encountered in exp\n",
      "  lambda: 1,\n",
      "C:\\Users\\Coldr\\Documents.\\SFD_Group.py:158: RuntimeWarning: overflow encountered in exp\n",
      "  lambda: 1,\n",
      "C:\\Users\\Coldr\\Documents.\\SFD_Group.py:158: RuntimeWarning: overflow encountered in exp\n",
      "  lambda: 1,\n",
      "C:\\Users\\Coldr\\Documents.\\SFD_Group.py:158: RuntimeWarning: divide by zero encountered in double_scalars\n",
      "  lambda: 1,\n",
      "C:\\Users\\Coldr\\Documents.\\SFD_Group.py:158: RuntimeWarning: divide by zero encountered in double_scalars\n",
      "  lambda: 1,\n",
      "C:\\Users\\Coldr\\Documents.\\SFD_Group.py:158: RuntimeWarning: overflow encountered in exp\n",
      "  lambda: 1,\n",
      "C:\\Users\\Coldr\\Documents.\\SFD_Group.py:158: RuntimeWarning: divide by zero encountered in double_scalars\n",
      "  lambda: 1,\n",
      "C:\\Users\\Coldr\\Documents.\\SFD_Group.py:158: RuntimeWarning: overflow encountered in exp\n",
      "  lambda: 1,\n",
      "C:\\Users\\Coldr\\Documents.\\SFD_Group.py:158: RuntimeWarning: overflow encountered in exp\n",
      "  lambda: 1,\n",
      "C:\\Users\\Coldr\\Documents.\\SFD_Group.py:158: RuntimeWarning: divide by zero encountered in double_scalars\n",
      "  lambda: 1,\n",
      "C:\\Users\\Coldr\\Documents.\\SFD_Group.py:158: RuntimeWarning: divide by zero encountered in double_scalars\n",
      "  lambda: 1,\n",
      "C:\\Users\\Coldr\\Documents.\\SFD_Group.py:158: RuntimeWarning: overflow encountered in exp\n",
      "  lambda: 1,\n",
      "C:\\Users\\Coldr\\Documents.\\SFD_Group.py:158: RuntimeWarning: overflow encountered in exp\n",
      "  lambda: 1,\n",
      "C:\\Users\\Coldr\\Documents.\\SFD_Group.py:158: RuntimeWarning: divide by zero encountered in double_scalars\n",
      "  lambda: 1,\n",
      "C:\\Users\\Coldr\\Documents.\\SFD_Group.py:158: RuntimeWarning: overflow encountered in exp\n",
      "  lambda: 1,\n",
      "C:\\Users\\Coldr\\Documents.\\SFD_Group.py:158: RuntimeWarning: divide by zero encountered in double_scalars\n",
      "  lambda: 1,\n",
      "C:\\Users\\Coldr\\Documents.\\SFD_Group.py:158: RuntimeWarning: overflow encountered in exp\n",
      "  lambda: 1,\n",
      "C:\\Users\\Coldr\\Documents.\\SFD_Group.py:158: RuntimeWarning: divide by zero encountered in double_scalars\n",
      "  lambda: 1,\n",
      "C:\\Users\\Coldr\\Documents.\\SFD_Group.py:158: RuntimeWarning: overflow encountered in exp\n",
      "  lambda: 1,\n",
      "C:\\Users\\Coldr\\Documents.\\SFD_Group.py:158: RuntimeWarning: divide by zero encountered in double_scalars\n",
      "  lambda: 1,\n",
      "C:\\Users\\Coldr\\Documents.\\SFD_Group.py:158: RuntimeWarning: divide by zero encountered in double_scalars\n",
      "  lambda: 1,\n",
      "C:\\Users\\Coldr\\Documents.\\SFD_Group.py:158: RuntimeWarning: divide by zero encountered in double_scalars\n",
      "  lambda: 1,\n",
      "C:\\Users\\Coldr\\Documents.\\SFD_Group.py:158: RuntimeWarning: overflow encountered in exp\n",
      "  lambda: 1,\n",
      "C:\\Users\\Coldr\\Documents.\\SFD_Group.py:158: RuntimeWarning: divide by zero encountered in double_scalars\n",
      "  lambda: 1,\n",
      "C:\\Users\\Coldr\\Documents.\\SFD_Group.py:158: RuntimeWarning: overflow encountered in exp\n",
      "  lambda: 1,\n",
      "C:\\Users\\Coldr\\Documents.\\SFD_Group.py:158: RuntimeWarning: overflow encountered in exp\n",
      "  lambda: 1,\n",
      "C:\\Users\\Coldr\\Documents.\\SFD_Group.py:158: RuntimeWarning: overflow encountered in exp\n",
      "  lambda: 1,\n",
      "C:\\Users\\Coldr\\Documents.\\SFD_Group.py:158: RuntimeWarning: divide by zero encountered in double_scalars\n",
      "  lambda: 1,\n"
     ]
    },
    {
     "data": {
      "text/plain": [
       " message: Did not converge to a solution satisfying the constraints. See `maxcv` for magnitude of violation.\n",
       " success: False\n",
       "  status: 4\n",
       "     fun: 17409.005997535307\n",
       "       x: [ 2.139e+00  1.400e+00 -4.000e-01  5.279e-02  1.040e+01]\n",
       "    nfev: 9\n",
       "   maxcv: 0.40000000000000036"
      ]
     },
     "execution_count": 56,
     "metadata": {},
     "output_type": "execute_result"
    }
   ],
   "source": [
    "res = scipy.optimize.minimize(error, [parameter1_guess,\n",
    "                                      parameter2_guess,\n",
    "                                      parameter3_guess,\n",
    "                                      parameter4_guess,\n",
    "                                      parameter5_guess],\n",
    "                              method='COBYLA',\n",
    "                              bounds=[parameter1_bounds,\n",
    "                                      parameter2_bounds,\n",
    "                                      parameter3_bounds,\n",
    "                                      parameter4_bounds,\n",
    "                                      parameter5_bounds],\n",
    "                              constraints=cons)\n",
    "res"
   ]
  },
  {
   "cell_type": "code",
   "execution_count": 570,
   "metadata": {},
   "outputs": [
    {
     "name": "stdout",
     "output_type": "stream",
     "text": [
      "Parameters: 0.0, 0.64 - Success: True - Result: 1.5896741429455163e+18 - Optimal Parameters: [8.87391062e-06 6.40000319e-01]\n",
      "Parameters: 0.0, 0.676 - Success: True - Result: 1.174765194282272e+18 - Optimal Parameters: [0.         0.67599838]\n",
      "Parameters: 0.0, 0.712 - Success: True - Result: 7.870117236098932e+17 - Optimal Parameters: [6.44276559e-07 7.12000018e-01]\n",
      "Parameters: 0.0, 0.748 - Success: True - Result: 4.867145828129611e+17 - Optimal Parameters: [0.         0.74801329]\n",
      "Parameters: 0.0, 0.784 - Success: True - Result: 3.5037341270009197e+17 - Optimal Parameters: [0.         0.78399845]\n",
      "Parameters: 0.0, 0.8200000000000001 - Success: True - Result: 3.586164420134107e+17 - Optimal Parameters: [4.61808949e-06 8.20000173e-01]\n",
      "Parameters: 0.0, 0.856 - Success: True - Result: 4.769490299213672e+17 - Optimal Parameters: [2.67398066e-07 8.56000004e-01]\n",
      "Parameters: 0.0, 0.892 - Success: True - Result: 6.714990143659675e+17 - Optimal Parameters: [0.        0.8919999]\n",
      "Parameters: 0.0, 0.9279999999999999 - Success: True - Result: 8.763023731840086e+17 - Optimal Parameters: [0.         0.92799245]\n",
      "Parameters: 0.0, 0.964 - Success: True - Result: 1.0709212286918196e+18 - Optimal Parameters: [0.         0.96400676]\n",
      "Parameters: 0.0, 1.0 - Success: True - Result: 1.2573244189053553e+18 - Optimal Parameters: [4.73541437e-06 9.99995711e-01]\n",
      "Parameters: 1.0, 0.64 - Success: True - Result: 4.0124756491561754e+17 - Optimal Parameters: [1.00000207 0.64      ]\n",
      "Parameters: 1.0, 0.676 - Success: True - Result: 3.293649387728793e+17 - Optimal Parameters: [1.00000225 0.67600013]\n",
      "Parameters: 1.0, 0.712 - Success: False - Result: 5.259488081900559e+17 - Optimal Parameters: [1.    0.712]\n",
      "Parameters: 1.0, 0.748 - Success: True - Result: 7.177421056424159e+17 - Optimal Parameters: [0.99999907 0.74800022]\n",
      "Parameters: 1.0, 0.784 - Success: False - Result: 1.0082898328976797e+18 - Optimal Parameters: [1.    0.784]\n",
      "Parameters: 1.0, 0.8200000000000001 - Success: True - Result: 1.739281786649623e+18 - Optimal Parameters: [0.999999   0.81999982]\n",
      "Parameters: 1.0, 0.856 - Success: False - Result: 1.806249004449659e+18 - Optimal Parameters: [1.    0.856]\n",
      "Parameters: 1.0, 0.892 - Success: True - Result: 2.24661197040393e+18 - Optimal Parameters: [0.99999843 0.89200017]\n",
      "Parameters: 1.0, 0.9279999999999999 - Success: True - Result: 2.5705062183153157e+18 - Optimal Parameters: [1.00000045 0.92799999]\n",
      "Parameters: 1.0, 0.964 - Success: True - Result: 2.8008880267016325e+18 - Optimal Parameters: [1.00000692 0.96399983]\n",
      "Parameters: 1.0, 1.0 - Success: False - Result: 2.8471274886249677e+18 - Optimal Parameters: [1.00000044 1.        ]\n",
      "Parameters: 2.0, 0.64 - Success: False - Result: 3.881659982671436e+17 - Optimal Parameters: [2.   0.64]\n",
      "Parameters: 2.0, 0.676 - Success: True - Result: 3.906841868038105e+17 - Optimal Parameters: [1.99999777 0.67599996]\n",
      "Parameters: 2.0, 0.712 - Success: True - Result: 4.5647549349064986e+17 - Optimal Parameters: [2.00000003 0.71199998]\n",
      "Parameters: 2.0, 0.748 - Success: True - Result: 9.609478014957957e+17 - Optimal Parameters: [2.00000386 0.7480004 ]\n",
      "Parameters: 2.0, 0.784 - Success: True - Result: 1.380303968872491e+18 - Optimal Parameters: [2.00001341 0.78399005]\n",
      "Parameters: 2.0, 0.8200000000000001 - Success: True - Result: 1.7682537888922916e+18 - Optimal Parameters: [2.00000871 0.81999962]\n",
      "Parameters: 2.0, 0.856 - Success: True - Result: 2.1040182806628618e+18 - Optimal Parameters: [2.00000054 0.85599993]\n",
      "Parameters: 2.0, 0.892 - Success: True - Result: 2.2013613898667197e+18 - Optimal Parameters: [1.99999928 0.89199991]\n",
      "Parameters: 2.0, 0.9279999999999999 - Success: True - Result: 2.449509902262191e+18 - Optimal Parameters: [1.99999976 0.92799998]\n",
      "Parameters: 2.0, 0.964 - Success: False - Result: 2.684148215531601e+18 - Optimal Parameters: [2.    0.964]\n",
      "Parameters: 2.0, 1.0 - Success: True - Result: 3.0031340340839255e+18 - Optimal Parameters: [1.99999469 1.        ]\n",
      "Parameters: 3.0, 0.64 - Success: True - Result: 3.49197273032881e+17 - Optimal Parameters: [2.99999973 0.64000003]\n",
      "Parameters: 3.0, 0.676 - Success: False - Result: 3.5366618863276096e+17 - Optimal Parameters: [3.    0.676]\n",
      "Parameters: 3.0, 0.712 - Success: True - Result: 5.559439475832073e+17 - Optimal Parameters: [3.00000175 0.71199998]\n",
      "Parameters: 3.0, 0.748 - Success: True - Result: 1.0724430339664314e+18 - Optimal Parameters: [3.0000018  0.74799958]\n",
      "Parameters: 3.0, 0.784 - Success: True - Result: 1.4343028011976202e+18 - Optimal Parameters: [2.99999959 0.78399998]\n",
      "Parameters: 3.0, 0.8200000000000001 - Success: True - Result: 1.8466700877018284e+18 - Optimal Parameters: [3.00000151 0.81999987]\n",
      "Parameters: 3.0, 0.856 - Success: False - Result: 2.1399777731547057e+18 - Optimal Parameters: [2.99998917 0.85600042]\n",
      "Parameters: 3.0, 0.892 - Success: True - Result: 2.3506381483452856e+18 - Optimal Parameters: [2.9999989  0.89199991]\n",
      "Parameters: 3.0, 0.9279999999999999 - Success: True - Result: 2.487578493074833e+18 - Optimal Parameters: [2.99999965 0.92799998]\n",
      "Parameters: 3.0, 0.964 - Success: True - Result: 2.7905131888844826e+18 - Optimal Parameters: [3.00018303 0.96400152]\n",
      "Parameters: 3.0, 1.0 - Success: True - Result: 3.0613364974008346e+18 - Optimal Parameters: [2.99998779 0.99999853]\n",
      "Parameters: 4.0, 0.64 - Success: True - Result: 3.816112109222708e+17 - Optimal Parameters: [4.00000586 0.64000035]\n",
      "Parameters: 4.0, 0.676 - Success: True - Result: 3.9144923249323834e+17 - Optimal Parameters: [4.00000057 0.676     ]\n",
      "Parameters: 4.0, 0.712 - Success: True - Result: 5.240592195916893e+17 - Optimal Parameters: [3.99999569 0.71199992]\n",
      "Parameters: 4.0, 0.748 - Success: True - Result: 6.913679992737475e+17 - Optimal Parameters: [4.00000163 0.74800006]\n",
      "Parameters: 4.0, 0.784 - Success: True - Result: 1.3746059777776801e+18 - Optimal Parameters: [3.99999224 0.78399972]\n",
      "Parameters: 4.0, 0.8200000000000001 - Success: True - Result: 1.711232643618264e+18 - Optimal Parameters: [4.00000773 0.82000023]\n",
      "Parameters: 4.0, 0.856 - Success: True - Result: 2.1040317827043418e+18 - Optimal Parameters: [4.00004509 0.85600281]\n",
      "Parameters: 4.0, 0.892 - Success: True - Result: 2.4047829400424504e+18 - Optimal Parameters: [3.99999733 0.89199983]\n",
      "Parameters: 4.0, 0.9279999999999999 - Success: False - Result: 2.3211672519511916e+18 - Optimal Parameters: [4.    0.928]\n",
      "Parameters: 4.0, 0.964 - Success: True - Result: 2.6157399572386063e+18 - Optimal Parameters: [4.00000346 0.96400002]\n",
      "Parameters: 4.0, 1.0 - Success: True - Result: 2.928910542660988e+18 - Optimal Parameters: [4.00000116 0.9999995 ]\n",
      "Parameters: 5.0, 0.64 - Success: True - Result: 4.006181807875296e+17 - Optimal Parameters: [4.99999928 0.64      ]\n",
      "Parameters: 5.0, 0.676 - Success: True - Result: 3.421991355546405e+17 - Optimal Parameters: [5.00000189 0.67600014]\n",
      "Parameters: 5.0, 0.712 - Success: True - Result: 6.746983335053204e+17 - Optimal Parameters: [4.99999783 0.71200009]\n",
      "Parameters: 5.0, 0.748 - Success: False - Result: 8.703469974858678e+17 - Optimal Parameters: [5.    0.748]\n",
      "Parameters: 5.0, 0.784 - Success: True - Result: 1.3567983071904003e+18 - Optimal Parameters: [5.00000005 0.78399995]\n",
      "Parameters: 5.0, 0.8200000000000001 - Success: True - Result: 1.558827443580742e+18 - Optimal Parameters: [5.00000277 0.81999958]\n",
      "Parameters: 5.0, 0.856 - Success: True - Result: 2.1980146495645847e+18 - Optimal Parameters: [5.    0.856]\n",
      "Parameters: 5.0, 0.892 - Success: True - Result: 2.2353999795277896e+18 - Optimal Parameters: [5.00000466 0.8920001 ]\n",
      "Parameters: 5.0, 0.9279999999999999 - Success: False - Result: 2.4220727676896993e+18 - Optimal Parameters: [5.    0.928]\n",
      "Parameters: 5.0, 0.964 - Success: True - Result: 2.5744731806711224e+18 - Optimal Parameters: [5.00001464 0.96400011]\n",
      "Parameters: 5.0, 1.0 - Success: True - Result: 2.961264220510879e+18 - Optimal Parameters: [4.99999163 1.        ]\n",
      "Parameters: 6.0, 0.64 - Success: True - Result: 3.6203007752685843e+17 - Optimal Parameters: [6.00000252 0.64000023]\n",
      "Parameters: 6.0, 0.676 - Success: False - Result: 3.271082284884442e+17 - Optimal Parameters: [5.99999888 0.67599999]\n",
      "Parameters: 6.0, 0.712 - Success: True - Result: 5.549696460489995e+17 - Optimal Parameters: [6.00000392 0.71199968]\n",
      "Parameters: 6.0, 0.748 - Success: True - Result: 8.520474248533754e+17 - Optimal Parameters: [6.00000016 0.74799999]\n",
      "Parameters: 6.0, 0.784 - Success: True - Result: 1.5350611432610796e+18 - Optimal Parameters: [6.00000388 0.78400046]\n",
      "Parameters: 6.0, 0.8200000000000001 - Success: True - Result: 1.598340134654726e+18 - Optimal Parameters: [6.00000526 0.82000019]\n",
      "Parameters: 6.0, 0.856 - Success: False - Result: 2.1212833994739692e+18 - Optimal Parameters: [5.99999405 0.85600014]\n",
      "Parameters: 6.0, 0.892 - Success: False - Result: 2.2506637939540861e+18 - Optimal Parameters: [6.    0.892]\n",
      "Parameters: 6.0, 0.9279999999999999 - Success: True - Result: 2.6072698186232847e+18 - Optimal Parameters: [5.99999996 0.928     ]\n",
      "Parameters: 6.0, 0.964 - Success: True - Result: 2.537331540721879e+18 - Optimal Parameters: [6.00000479 0.96400002]\n",
      "Parameters: 6.0, 1.0 - Success: True - Result: 3.1342234916920453e+18 - Optimal Parameters: [5.99999758 0.99999985]\n",
      "Parameters: 7.0, 0.64 - Success: False - Result: 3.4760081050898515e+17 - Optimal Parameters: [7.   0.64]\n",
      "Parameters: 7.0, 0.676 - Success: True - Result: 3.251253691830315e+17 - Optimal Parameters: [6.99999655 0.67599974]\n",
      "Parameters: 7.0, 0.712 - Success: True - Result: 5.62492625120876e+17 - Optimal Parameters: [6.99999774 0.71200009]\n",
      "Parameters: 7.0, 0.748 - Success: True - Result: 1.1101287549918305e+18 - Optimal Parameters: [7.00000299 0.74800067]\n",
      "Parameters: 7.0, 0.784 - Success: False - Result: 1.332231274441614e+18 - Optimal Parameters: [7.    0.784]\n",
      "Parameters: 7.0, 0.8200000000000001 - Success: True - Result: 1.547769990411364e+18 - Optimal Parameters: [7.00007037 0.81999578]\n",
      "Parameters: 7.0, 0.856 - Success: True - Result: 1.8835218736663552e+18 - Optimal Parameters: [7.00000544 0.85600121]\n",
      "Parameters: 7.0, 0.892 - Success: True - Result: 2.19546835708419e+18 - Optimal Parameters: [7.00000801 0.89200024]\n",
      "Parameters: 7.0, 0.9279999999999999 - Success: True - Result: 2.555820379580311e+18 - Optimal Parameters: [6.9999997  0.92799999]\n",
      "Parameters: 7.0, 0.964 - Success: True - Result: 2.705864175007114e+18 - Optimal Parameters: [7.00000361 0.96400005]\n",
      "Parameters: 7.0, 1.0 - Success: True - Result: 3.0027571137604874e+18 - Optimal Parameters: [7.00000002 0.99999999]\n",
      "Parameters: 8.0, 0.64 - Success: False - Result: 3.516095646121218e+17 - Optimal Parameters: [8.   0.64]\n",
      "Parameters: 8.0, 0.676 - Success: True - Result: 3.8074569958295034e+17 - Optimal Parameters: [8.00000099 0.67600029]\n",
      "Parameters: 8.0, 0.712 - Success: False - Result: 4.374042963449362e+17 - Optimal Parameters: [8.    0.712]\n",
      "Parameters: 8.0, 0.748 - Success: True - Result: 8.628320887810396e+17 - Optimal Parameters: [7.99999573 0.74799994]\n",
      "Parameters: 8.0, 0.784 - Success: False - Result: 1.521312507452109e+18 - Optimal Parameters: [8.    0.784]\n",
      "Parameters: 8.0, 0.8200000000000001 - Success: True - Result: 1.6695261044269443e+18 - Optimal Parameters: [8.00000025 0.81999999]\n",
      "Parameters: 8.0, 0.856 - Success: True - Result: 2.2730119692588782e+18 - Optimal Parameters: [7.99999343 0.8559998 ]\n",
      "Parameters: 8.0, 0.892 - Success: True - Result: 2.520601930658251e+18 - Optimal Parameters: [8.00000144 0.89200056]\n",
      "Parameters: 8.0, 0.9279999999999999 - Success: True - Result: 2.438186905119555e+18 - Optimal Parameters: [7.99999825 0.92799974]\n",
      "Parameters: 8.0, 0.964 - Success: True - Result: 2.650615408941845e+18 - Optimal Parameters: [8.    0.964]\n",
      "Parameters: 8.0, 1.0 - Success: True - Result: 2.9964068394109773e+18 - Optimal Parameters: [7.99999997 1.        ]\n",
      "Parameters: 9.0, 0.64 - Success: True - Result: 3.450427468323947e+17 - Optimal Parameters: [9.00000245 0.64000076]\n",
      "Parameters: 9.0, 0.676 - Success: False - Result: 3.812380979298455e+17 - Optimal Parameters: [9.    0.676]\n",
      "Parameters: 9.0, 0.712 - Success: True - Result: 6.497231466589814e+17 - Optimal Parameters: [9.00000274 0.7119998 ]\n",
      "Parameters: 9.0, 0.748 - Success: False - Result: 9.46851425981564e+17 - Optimal Parameters: [9.    0.748]\n",
      "Parameters: 9.0, 0.784 - Success: False - Result: 1.0521607533060079e+18 - Optimal Parameters: [9.    0.784]\n",
      "Parameters: 9.0, 0.8200000000000001 - Success: True - Result: 1.9545762697766456e+18 - Optimal Parameters: [9.00000624 0.82000112]\n",
      "Parameters: 9.0, 0.856 - Success: True - Result: 1.9967420320872172e+18 - Optimal Parameters: [9.00000075 0.85600035]\n",
      "Parameters: 9.0, 0.892 - Success: True - Result: 2.170081174332553e+18 - Optimal Parameters: [9.00000015 0.89199996]\n",
      "Parameters: 9.0, 0.9279999999999999 - Success: True - Result: 2.5617895843363333e+18 - Optimal Parameters: [8.99999477 0.92799983]\n",
      "Parameters: 9.0, 0.964 - Success: True - Result: 2.640750040881764e+18 - Optimal Parameters: [9.00000923 0.96400043]\n",
      "Parameters: 9.0, 1.0 - Success: True - Result: 3.1243824623592407e+18 - Optimal Parameters: [8.99998999 0.9999996 ]\n",
      "Parameters: 10.0, 0.64 - Success: True - Result: 3.724668089929453e+17 - Optimal Parameters: [9.99998374 0.64      ]\n",
      "Parameters: 10.0, 0.676 - Success: True - Result: 3.3223342584045446e+17 - Optimal Parameters: [9.999998   0.67600006]\n",
      "Parameters: 10.0, 0.712 - Success: True - Result: 7.075060229505316e+17 - Optimal Parameters: [9.99998635 0.71199885]\n",
      "Parameters: 10.0, 0.748 - Success: True - Result: 8.690787260298447e+17 - Optimal Parameters: [10.          0.74799795]\n",
      "Parameters: 10.0, 0.784 - Success: True - Result: 1.4055587484380385e+18 - Optimal Parameters: [9.99999812 0.78399997]\n",
      "Parameters: 10.0, 0.8200000000000001 - Success: True - Result: 1.5517646872702333e+18 - Optimal Parameters: [10.          0.82000025]\n",
      "Parameters: 10.0, 0.856 - Success: True - Result: 1.9452211516068667e+18 - Optimal Parameters: [9.99999622 0.85600015]\n",
      "Parameters: 10.0, 0.892 - Success: True - Result: 2.2946394567547482e+18 - Optimal Parameters: [9.99999736 0.89199993]\n",
      "Parameters: 10.0, 0.9279999999999999 - Success: True - Result: 2.5210757245878395e+18 - Optimal Parameters: [10.          0.92799893]\n",
      "Parameters: 10.0, 0.964 - Success: True - Result: 2.739200831042252e+18 - Optimal Parameters: [9.99999809 0.96400027]\n",
      "Parameters: 10.0, 1.0 - Success: True - Result: 2.9302215788018903e+18 - Optimal Parameters: [10.  1.]\n"
     ]
    }
   ],
   "source": [
    "import numpy as np\n",
    "import scipy.optimize\n",
    "\n",
    "# Define your bounds\n",
    "parameter1_bounds = (0, 10)\n",
    "parameter2_bounds = (0.64, 1)\n",
    "\n",
    "# Number of steps for each parameter within bounds\n",
    "steps = 11\n",
    "\n",
    "# Initialize a list to store optimization results\n",
    "results = []\n",
    "\n",
    "# Loop through parameter values\n",
    "for param1 in np.linspace(parameter1_bounds[0], parameter1_bounds[1], steps):\n",
    "    for param2 in np.linspace(parameter2_bounds[0], parameter2_bounds[1], steps):\n",
    "        # Perform optimization for the current parameter values\n",
    "        res = scipy.optimize.minimize(error, [param1, param2],\n",
    "                                      method='L-BFGS-B',\n",
    "                                      bounds=[parameter1_bounds, parameter2_bounds])\n",
    "        \n",
    "        # Store the results in the list\n",
    "        results.append((param1, param2, res))\n",
    "\n",
    "# Display the results\n",
    "for param1, param2, res in results:\n",
    "    print(f\"Parameters: {param1}, {param2} - Success: {res.success} - Result: {res.fun} - Optimal Parameters: {res.x}\")\n",
    "\n"
   ]
  },
  {
   "cell_type": "code",
   "execution_count": 55,
   "metadata": {},
   "outputs": [
    {
     "name": "stdout",
     "output_type": "stream",
     "text": [
      "              Divorce    Population\n",
      "1992.0  967931.114206  2.572260e+08\n",
      "1993.0  967931.114206  2.572260e+08\n",
      "1994.0  967931.114206  2.572260e+08\n",
      "1995.0  967931.114206  2.572260e+08\n",
      "1996.0  967931.114206  2.572260e+08\n",
      "1997.0  967931.114206  2.572260e+08\n",
      "1998.0  967931.114206  2.572260e+08\n",
      "1999.0  967931.114206  2.572260e+08\n",
      "2000.0  967931.114206  2.572260e+08\n",
      "2001.0  967931.114206  2.572260e+08\n",
      "2002.0  967931.114206  2.572260e+08\n",
      "2003.0  967931.114206  2.572260e+08\n",
      "2004.0  967931.114206  2.572260e+08\n",
      "2005.0  967931.114206  2.572260e+08\n",
      "2006.0  967931.114206  2.572260e+08\n",
      "2007.0  967931.114206  2.572260e+08\n",
      "2008.0  967931.114206  2.572260e+08\n",
      "2009.0  967931.114206  2.572260e+08\n",
      "2010.0  967931.114206  2.572260e+08\n",
      "2011.0  967931.114206  2.572260e+08\n",
      "2012.0  967931.114206  2.572260e+08\n",
      "2013.0  967931.114206  2.572260e+08\n",
      "2014.0  967931.114206  2.572260e+08\n",
      "2015.0  967931.114206  2.572260e+08\n",
      "2016.0  967931.114206  2.572260e+08\n",
      "2017.0  967931.114206  2.572260e+08\n",
      "2018.0  967931.114206  2.572260e+08\n"
     ]
    },
    {
     "data": {
      "text/plain": [
       "Text(2, 9000, '')"
      ]
     },
     "execution_count": 55,
     "metadata": {},
     "output_type": "execute_result"
    },
    {
     "data": {
      "image/png": "[encoded data removed]",
      "text/plain": [
       "<Figure size 640x480 with 1 Axes>"
      ]
     },
     "metadata": {},
     "output_type": "display_data"
    }
   ],
   "source": [
    "parameter1, parameter2, parameter3, parameter4, parameter5 = res.x\n",
    "result = model.run(params={'K':parameter1,\n",
    "                           'W soc':parameter2,\n",
    "                           'W eco':parameter3,\n",
    "                           'Recovery rate':parameter4,\n",
    "                           'Delay for societal':parameter5},\n",
    "                   return_columns=['Divorce','Population'],\n",
    "                   return_timestamps=list(data.index.values))\n",
    "\n",
    "print(result)\n",
    "\n",
    "plt.plot(result.index, result['Divorce']/result['Population'] *1000, label='Simulated')\n",
    "plt.plot(data.index, data['United States'], label='Historical')\n",
    "plt.xlabel('Time [Years]')\n",
    "plt.ylabel('Divorce')\n",
    "plt.title('Model fit to data')\n",
    "plt.legend(loc='lower right')\n",
    "plt.text(2,9000, '', color='r', fontsize=12)"
   ]
  },
  {
   "cell_type": "markdown",
   "metadata": {},
   "source": [
    "### Optimisation Using a Single Parameter"
   ]
  },
  {
   "cell_type": "code",
   "execution_count": 672,
   "metadata": {},
   "outputs": [],
   "source": [
    "observable = 'Bacteria Population'\n",
    "parameter1 = 'Nutrients Injected to soil'\n",
    "\n",
    "def observable_neg(parameter1_value):\n",
    "    '''\n",
    "    This function returns the negated value of the observable (possibly \n",
    "    averaged over multiple runs) given the value of the parameter in param_list.\n",
    "    This is the same function as above, but now adjusted to work with only one\n",
    "    parameter.\n",
    "\n",
    "    The function is used when maximising the value of the observable using\n",
    "    the single parameter.\n",
    "    '''\n",
    "\n",
    "    # create a list to store the observable values in\n",
    "    observable_values = []\n",
    "\n",
    "    # adjust this to change the number of repetitions\n",
    "    for i in np.arange(0, 1, 1):\n",
    "\n",
    "        # run the model with the given parameter value, returning the info we're interested in\n",
    "        result = model.run(params={parameter1: parameter1_value},\n",
    "                           return_timestamps=[60],\n",
    "                           return_columns=[observable])\n",
    "\n",
    "        # store value of observable\n",
    "        observable_values.append(result.loc[60, observable])\n",
    "\n",
    "    # return the value to be minimized \n",
    "    # (we add a '-' sign because our goal is to maximize)\n",
    "    return -np.mean(observable_values)"
   ]
  },
  {
   "cell_type": "code",
   "execution_count": 752,
   "metadata": {},
   "outputs": [
    {
     "data": {
      "text/plain": [
       "-609657025.896136"
      ]
     },
     "execution_count": 752,
     "metadata": {},
     "output_type": "execute_result"
    }
   ],
   "source": [
    "# test the function we created\n",
    "parameter1_guess = 0.3\n",
    "\n",
    "observable_neg(parameter1_guess)"
   ]
  },
  {
   "cell_type": "code",
   "execution_count": 712,
   "metadata": {},
   "outputs": [
    {
     "name": "stdout",
     "output_type": "stream",
     "text": [
      "[12.791142411024671, 12.769964938364197, 12.787634297344677, 10.408048317654794, 10.490801741747404, 10.672743008211764, 9.90127995199902, 10.258554953572322, 10.237603151372053, 9.941985608422078, 10.171948451232907, 10.063685541408889, 10.053616628380965, 9.678667322746543, 9.834701231815224, 10.03920644270341, 9.816592556020703, 9.604011248836546, 10.307748645946575, 10.095121102908232, 10.287948043015804, 10.152335171132828, 10.32505331472056, 10.031310869429108, 9.553504947877261, 10.130126485434815, 10.124563379055246, 10.014158645642375, 9.4936331836171, 10.002737299980582, 10.567780113950995, 10.057489213271978, 10.019147493225741, 10.209198420795264, 10.074372927034865, 10.02203300723799, 10.08418002048427, 10.080439205567403, 10.373030994103734, 10.008588055172867, 10.663607002623827, 9.918849615169432, 10.184939754735444, 10.462593672771034, 10.509765518898824, 10.913971124902426, 10.178060052360589, 10.290945796643879, 10.248069294554929, 11.000448858181676, 10.642221508386235, 10.326224795434532, 10.635685331627661, 11.010355625395464, 10.338889328164612, 10.691571767842866, 10.728140749316974, 10.825119470610051, 10.493310176837713, 10.810546813149612, 11.365834195890049, 11.26322355891624, 10.661619687658174, 10.752211784762403, 10.775977455319635, 10.710896720635763, 11.187431647560372, 11.652402254710715, 11.565073899526457, 11.297941335026643, 11.21113755436562, 11.183447820222037, 11.044628661498956, 11.609626454978992, 11.73114764537845, 11.331166904904574, 11.302476385707322, 11.741825396386217, 11.609564192158256, 11.466005720424443, 11.346725865138632, 11.781865042179508, 11.450283842972159, 11.725446412305743, 11.329842569308363, 11.368489144233209, 11.81554041629921, 11.89937427080519, 11.672288698503465, 11.470676221495713, 11.71350638983921, 12.22448962816136, 11.64775747175933, 12.449287691271595, 12.470179327602635, 11.551621241669466, 11.644747749147326, 12.208577605503944, 12.062183026516312, 12.377722826185584, 12.507612995049739, 12.58882780191198, 12.352507897088524, 12.35306450802042, 12.487914906566264, 12.355309237501151, 12.675500272614144, 12.719033247467287, 12.260570228399253, 12.441314107875364, 12.363072308417676, 12.330953665283682, 12.477158648750434, 12.589958559764641, 12.70260683145198, 13.110114948224483, 12.378382317955849, 13.128087627735193, 13.069520872285501, 12.408625036583807, 13.125069260991065, 12.756015771876509, 12.778003229122563, 12.72909514822634, 13.337118573213969, 12.953848194875054, 12.832940593527727, 12.912164182706077, 12.700356290359103, 12.948023057772614, 13.113309652043817, 13.072890269826416, 13.22433164527527, 13.086619495991119, 13.450110515020633, 13.793608905824227, 13.578695777076536, 13.744751413215843, 13.771789214802372, 13.197017561100097, 12.943833288293805, 13.981435383467867, 13.996902537263253, 13.457872583949602, 13.384479532964585, 13.93778537530342, 13.614248254745325, 13.293352618583278, 13.78609479396669, 13.939028814200954, 13.394382734044544, 13.727669899061912, 13.417285948743297, 13.788916143972928, 14.293671229277255, 13.567449566364575, 14.083243651788692, 13.951281436401167, 14.021238894793424, 14.053371351313022, 14.007860571233811, 13.79749624349661, 14.664354946344535, 13.978042623884031, 13.878690728676421, 14.250756224770495, 14.306105662670836, 14.013102155628989, 14.345059472558026, 14.110166994262396, 14.046192168609352, 14.576152911572951, 14.933649018333238, 14.597588732610268, 14.229108668369332, 14.491278712746965, 14.711974281130852, 14.752236618888482, 14.32733993017356, 14.393311965113922, 14.542131464473842, 14.489513391129396, 14.707004399492236, 14.431746807161016, 15.261331626197371, 14.810340256294015, 15.438767240680873, 15.458295428709803, 15.22800825146044, 15.190741780175292, 15.035254429990395, 14.954192962723885, 14.829566277150423, 15.295674868162127, 15.2379818072502, 15.03040462032304, 15.215837697074923, 15.243403899298952, 15.667174022138951, 15.503461076182107, 15.297967220732554, 15.357813138583385, 15.54192730785562, 15.258482055168862, 15.46637392712311, 15.673986223811221, 15.527553473319495, 15.324653154037405, 15.67175577999047, 15.574701607512647, 16.045245718266596, 16.108322096866885, 16.259644391466594, 16.204405669690406, 16.31314908587859, 15.64427493353139, 15.674231393218944, 16.203802590402468, 16.278824634876297, 15.989162687291753, 16.42583479792689, 15.83913229216296, 16.131260398155064, 16.00887824902523, 16.163316311341145, 16.849595968385813, 15.993091074675005, 15.91349937883698, 16.49424589937768, 16.511095123738762, 16.576784308217466, 16.06463925959381, 16.234354989276053, 16.095518359524686, 16.85664795397811, 16.351693410982257, 16.253057757558597, 16.459872458612622, 16.80752613672039, 16.791702600163465, 16.619470850947977, 16.53973355551856, 16.43994154830477, 16.937157892671518, 17.13718288504446, 17.107715684622683, 17.236542403195756, 17.490420555437712, 16.61320575239172, 17.25488344527162, 17.26637668186127, 16.7403219504461, 16.99843600984364, 17.46078078481137, 17.342765744473386, 17.265880152862668, 17.74043085780596, 17.383901556450265, 17.52865577166113, 17.703553203620867, 17.477463861248765, 17.68382632815581, 17.66609841195517, 17.859885255114595, 17.90495377589401, 18.061885204720294, 17.61237254760725, 18.142406606499716, 17.739143641120123, 17.933673565324643, 17.862817438129102, 17.360465066988183, 18.04323565965289, 17.45494700903445, 17.417798698411215, 18.001286191536504, 17.706593251460696, 18.088439008493566, 18.03653892506675, 18.566385385805336, 18.423756894114664, 17.669088941180515, 18.377913632087736, 18.22328258681216, 17.97515984555504, 18.083893726692516, 18.450636225743747, 18.13934026141374, 18.09072810858623, 18.49589544120433, 18.332315293483354, 18.126105378552886, 18.117662960537906, 18.908836390407046, 18.437986086218675, 18.845906002530096, 18.22202289715156, 18.650557438011486, 18.756288216057083, 18.685006425904426]\n"
     ]
    },
    {
     "data": {
      "text/plain": [
       " message: Solution found.\n",
       " success: True\n",
       "  status: 0\n",
       "     fun: -988359745.6901844\n",
       "       x: 0.8107602808472184\n",
       "     nit: 25\n",
       "    nfev: 25"
      ]
     },
     "execution_count": 712,
     "metadata": {},
     "output_type": "execute_result"
    }
   ],
   "source": [
    "### find value of parameter 1 that maximises the observable\n",
    "\n",
    "# for 1d minimisation we don't need an initial guess, just bounds\n",
    "parameter1_bounds = (0, 1)\n",
    "res = sp.optimize.minimize_scalar(observable_neg, \n",
    "                                  method='bounded', \n",
    "                                  bounds=parameter1_bounds)\n",
    "print(observable_values)\n",
    "res"
   ]
  },
  {
   "cell_type": "code",
   "execution_count": 660,
   "metadata": {},
   "outputs": [
    {
     "data": {
      "text/html": [
       "<div>\n",
       "<style scoped>\n",
       "    .dataframe tbody tr th:only-of-type {\n",
       "        vertical-align: middle;\n",
       "    }\n",
       "\n",
       "    .dataframe tbody tr th {\n",
       "        vertical-align: top;\n",
       "    }\n",
       "\n",
       "    .dataframe thead th {\n",
       "        text-align: right;\n",
       "    }\n",
       "</style>\n",
       "<table border=\"1\" class=\"dataframe\">\n",
       "  <thead>\n",
       "    <tr style=\"text-align: right;\">\n",
       "      <th></th>\n",
       "      <th>Nutrients</th>\n",
       "    </tr>\n",
       "    <tr>\n",
       "      <th>Nutrients Injected to soil</th>\n",
       "      <th></th>\n",
       "    </tr>\n",
       "  </thead>\n",
       "  <tbody>\n",
       "    <tr>\n",
       "      <th>0.0</th>\n",
       "      <td>12.782914</td>\n",
       "    </tr>\n",
       "    <tr>\n",
       "      <th>0.1</th>\n",
       "      <td>10.523864</td>\n",
       "    </tr>\n",
       "    <tr>\n",
       "      <th>0.2</th>\n",
       "      <td>10.132479</td>\n",
       "    </tr>\n",
       "    <tr>\n",
       "      <th>0.3</th>\n",
       "      <td>10.059207</td>\n",
       "    </tr>\n",
       "    <tr>\n",
       "      <th>0.4</th>\n",
       "      <td>9.855662</td>\n",
       "    </tr>\n",
       "    <tr>\n",
       "      <th>...</th>\n",
       "      <td>...</td>\n",
       "    </tr>\n",
       "    <tr>\n",
       "      <th>9.5</th>\n",
       "      <td>18.224623</td>\n",
       "    </tr>\n",
       "    <tr>\n",
       "      <th>9.6</th>\n",
       "      <td>18.306313</td>\n",
       "    </tr>\n",
       "    <tr>\n",
       "      <th>9.7</th>\n",
       "      <td>18.384202</td>\n",
       "    </tr>\n",
       "    <tr>\n",
       "      <th>9.8</th>\n",
       "      <td>18.501972</td>\n",
       "    </tr>\n",
       "    <tr>\n",
       "      <th>9.9</th>\n",
       "      <td>18.697284</td>\n",
       "    </tr>\n",
       "  </tbody>\n",
       "</table>\n",
       "<p>100 rows × 1 columns</p>\n",
       "</div>"
      ],
      "text/plain": [
       "                            Nutrients\n",
       "Nutrients Injected to soil           \n",
       "0.0                         12.782914\n",
       "0.1                         10.523864\n",
       "0.2                         10.132479\n",
       "0.3                         10.059207\n",
       "0.4                          9.855662\n",
       "...                               ...\n",
       "9.5                         18.224623\n",
       "9.6                         18.306313\n",
       "9.7                         18.384202\n",
       "9.8                         18.501972\n",
       "9.9                         18.697284\n",
       "\n",
       "[100 rows x 1 columns]"
      ]
     },
     "execution_count": 660,
     "metadata": {},
     "output_type": "execute_result"
    }
   ],
   "source": []
  },
  {
   "cell_type": "code",
   "execution_count": null,
   "metadata": {},
   "outputs": [],
   "source": []
  }
 ],
 "metadata": {
  "kernelspec": {
   "display_name": "Python 3 (ipykernel)",
   "language": "python",
   "name": "python3"
  },
  "language_info": {
   "codemirror_mode": {
    "name": "ipython",
    "version": 3
   },
   "file_extension": ".py",
   "mimetype": "text/x-python",
   "name": "python",
   "nbconvert_exporter": "python",
   "pygments_lexer": "ipython3",
   "version": "3.9.18"
  },
  "vscode": {
   "interpreter": {
    "hash": "a334dcf343fc20567253aab47b2e01789b39adc6f1e54bcc9222dfc256d5b0f9"
   }
  }
 },
 "nbformat": 4,
 "nbformat_minor": 4
}
