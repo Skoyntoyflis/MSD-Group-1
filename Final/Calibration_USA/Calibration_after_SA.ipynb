{
 "cells": [
  {
   "cell_type": "markdown",
   "metadata": {},
   "source": [
    "# Recalibration after SA"
   ]
  },
  {
   "cell_type": "code",
   "execution_count": 13,
   "metadata": {
    "scrolled": true
   },
   "outputs": [],
   "source": [
    "import pysd\n",
    "import matplotlib.pyplot as plt \n",
    "import numpy as np\n",
    "import pandas as pd\n",
    "import scipy as sp\n",
    "import scipy.optimize"
   ]
  },
  {
   "cell_type": "code",
   "execution_count": 14,
   "metadata": {},
   "outputs": [],
   "source": [
    "# load the Vensim model into Python\n",
    "model = pysd.read_vensim(r'SFD_Group_for_calibration_after_SA.mdl')"
   ]
  },
  {
   "cell_type": "code",
   "execution_count": 15,
   "metadata": {
    "scrolled": true
   },
   "outputs": [
    {
     "data": {
      "text/html": [
       "<div>\n",
       "<style scoped>\n",
       "    .dataframe tbody tr th:only-of-type {\n",
       "        vertical-align: middle;\n",
       "    }\n",
       "\n",
       "    .dataframe tbody tr th {\n",
       "        vertical-align: top;\n",
       "    }\n",
       "\n",
       "    .dataframe thead th {\n",
       "        text-align: right;\n",
       "    }\n",
       "</style>\n",
       "<table border=\"1\" class=\"dataframe\">\n",
       "  <thead>\n",
       "    <tr style=\"text-align: right;\">\n",
       "      <th></th>\n",
       "      <th>FINAL TIME</th>\n",
       "      <th>INITIAL TIME</th>\n",
       "      <th>SAVEPER</th>\n",
       "      <th>TIME STEP</th>\n",
       "      <th>Divorce rate</th>\n",
       "      <th>Societal factor</th>\n",
       "      <th>Scaled divorce</th>\n",
       "      <th>Marriage rate</th>\n",
       "      <th>Divorce</th>\n",
       "      <th>Population</th>\n",
       "      <th>Delay for recovery</th>\n",
       "      <th>Recovery</th>\n",
       "      <th>Divorced</th>\n",
       "      <th>Unmarried</th>\n",
       "      <th>K</th>\n",
       "      <th>Marriage</th>\n",
       "      <th>Married</th>\n",
       "      <th>Recovery rate</th>\n",
       "      <th>Education</th>\n",
       "      <th>W soc</th>\n",
       "    </tr>\n",
       "  </thead>\n",
       "  <tbody>\n",
       "    <tr>\n",
       "      <th>1992.0000</th>\n",
       "      <td>2018</td>\n",
       "      <td>1992</td>\n",
       "      <td>0.0625</td>\n",
       "      <td>0.0625</td>\n",
       "      <td>0.794754</td>\n",
       "      <td>0.588623</td>\n",
       "      <td>486.028880</td>\n",
       "      <td>0.123413</td>\n",
       "      <td>9.004171e+07</td>\n",
       "      <td>185260000.0</td>\n",
       "      <td>3</td>\n",
       "      <td>120680.000000</td>\n",
       "      <td>3.017000e+07</td>\n",
       "      <td>4.179500e+07</td>\n",
       "      <td>2.2</td>\n",
       "      <td>5.158054e+06</td>\n",
       "      <td>1.132950e+08</td>\n",
       "      <td>0.004</td>\n",
       "      <td>0.9</td>\n",
       "      <td>0.338</td>\n",
       "    </tr>\n",
       "    <tr>\n",
       "      <th>1992.0625</th>\n",
       "      <td>2018</td>\n",
       "      <td>1992</td>\n",
       "      <td>0.0625</td>\n",
       "      <td>0.0625</td>\n",
       "      <td>0.800183</td>\n",
       "      <td>0.604682</td>\n",
       "      <td>466.433904</td>\n",
       "      <td>0.118595</td>\n",
       "      <td>8.641155e+07</td>\n",
       "      <td>185260000.0</td>\n",
       "      <td>3</td>\n",
       "      <td>120680.000000</td>\n",
       "      <td>3.579006e+07</td>\n",
       "      <td>4.148016e+07</td>\n",
       "      <td>2.2</td>\n",
       "      <td>4.919351e+06</td>\n",
       "      <td>1.079898e+08</td>\n",
       "      <td>0.004</td>\n",
       "      <td>0.9</td>\n",
       "      <td>0.338</td>\n",
       "    </tr>\n",
       "    <tr>\n",
       "      <th>1992.1250</th>\n",
       "      <td>2018</td>\n",
       "      <td>1992</td>\n",
       "      <td>0.0625</td>\n",
       "      <td>0.0625</td>\n",
       "      <td>0.805321</td>\n",
       "      <td>0.619885</td>\n",
       "      <td>447.288819</td>\n",
       "      <td>0.114035</td>\n",
       "      <td>8.286473e+07</td>\n",
       "      <td>185260000.0</td>\n",
       "      <td>3</td>\n",
       "      <td>121148.338700</td>\n",
       "      <td>4.118324e+07</td>\n",
       "      <td>4.118025e+07</td>\n",
       "      <td>2.2</td>\n",
       "      <td>4.695971e+06</td>\n",
       "      <td>1.028965e+08</td>\n",
       "      <td>0.004</td>\n",
       "      <td>0.9</td>\n",
       "      <td>0.338</td>\n",
       "    </tr>\n",
       "    <tr>\n",
       "      <th>1992.1875</th>\n",
       "      <td>2018</td>\n",
       "      <td>1992</td>\n",
       "      <td>0.0625</td>\n",
       "      <td>0.0625</td>\n",
       "      <td>0.810175</td>\n",
       "      <td>0.634245</td>\n",
       "      <td>428.619308</td>\n",
       "      <td>0.109726</td>\n",
       "      <td>7.940601e+07</td>\n",
       "      <td>185260000.0</td>\n",
       "      <td>3</td>\n",
       "      <td>122056.351932</td>\n",
       "      <td>4.635472e+07</td>\n",
       "      <td>4.089432e+07</td>\n",
       "      <td>2.2</td>\n",
       "      <td>4.487191e+06</td>\n",
       "      <td>9.801096e+07</td>\n",
       "      <td>0.004</td>\n",
       "      <td>0.9</td>\n",
       "      <td>0.338</td>\n",
       "    </tr>\n",
       "    <tr>\n",
       "      <th>1992.2500</th>\n",
       "      <td>2018</td>\n",
       "      <td>1992</td>\n",
       "      <td>0.0625</td>\n",
       "      <td>0.0625</td>\n",
       "      <td>0.814751</td>\n",
       "      <td>0.647785</td>\n",
       "      <td>410.447708</td>\n",
       "      <td>0.105665</td>\n",
       "      <td>7.603954e+07</td>\n",
       "      <td>185260000.0</td>\n",
       "      <td>3</td>\n",
       "      <td>123376.404359</td>\n",
       "      <td>5.130996e+07</td>\n",
       "      <td>4.062150e+07</td>\n",
       "      <td>2.2</td>\n",
       "      <td>4.292253e+06</td>\n",
       "      <td>9.332854e+07</td>\n",
       "      <td>0.004</td>\n",
       "      <td>0.9</td>\n",
       "      <td>0.338</td>\n",
       "    </tr>\n",
       "  </tbody>\n",
       "</table>\n",
       "</div>"
      ],
      "text/plain": [
       "           FINAL TIME  INITIAL TIME  SAVEPER  TIME STEP  Divorce rate  \\\n",
       "1992.0000        2018          1992   0.0625     0.0625      0.794754   \n",
       "1992.0625        2018          1992   0.0625     0.0625      0.800183   \n",
       "1992.1250        2018          1992   0.0625     0.0625      0.805321   \n",
       "1992.1875        2018          1992   0.0625     0.0625      0.810175   \n",
       "1992.2500        2018          1992   0.0625     0.0625      0.814751   \n",
       "\n",
       "           Societal factor  Scaled divorce  Marriage rate       Divorce  \\\n",
       "1992.0000         0.588623      486.028880       0.123413  9.004171e+07   \n",
       "1992.0625         0.604682      466.433904       0.118595  8.641155e+07   \n",
       "1992.1250         0.619885      447.288819       0.114035  8.286473e+07   \n",
       "1992.1875         0.634245      428.619308       0.109726  7.940601e+07   \n",
       "1992.2500         0.647785      410.447708       0.105665  7.603954e+07   \n",
       "\n",
       "            Population  Delay for recovery       Recovery      Divorced  \\\n",
       "1992.0000  185260000.0                   3  120680.000000  3.017000e+07   \n",
       "1992.0625  185260000.0                   3  120680.000000  3.579006e+07   \n",
       "1992.1250  185260000.0                   3  121148.338700  4.118324e+07   \n",
       "1992.1875  185260000.0                   3  122056.351932  4.635472e+07   \n",
       "1992.2500  185260000.0                   3  123376.404359  5.130996e+07   \n",
       "\n",
       "              Unmarried    K      Marriage       Married  Recovery rate  \\\n",
       "1992.0000  4.179500e+07  2.2  5.158054e+06  1.132950e+08          0.004   \n",
       "1992.0625  4.148016e+07  2.2  4.919351e+06  1.079898e+08          0.004   \n",
       "1992.1250  4.118025e+07  2.2  4.695971e+06  1.028965e+08          0.004   \n",
       "1992.1875  4.089432e+07  2.2  4.487191e+06  9.801096e+07          0.004   \n",
       "1992.2500  4.062150e+07  2.2  4.292253e+06  9.332854e+07          0.004   \n",
       "\n",
       "           Education  W soc  \n",
       "1992.0000        0.9  0.338  \n",
       "1992.0625        0.9  0.338  \n",
       "1992.1250        0.9  0.338  \n",
       "1992.1875        0.9  0.338  \n",
       "1992.2500        0.9  0.338  "
      ]
     },
     "execution_count": 15,
     "metadata": {},
     "output_type": "execute_result"
    }
   ],
   "source": [
    "# run the model with default parameter values\n",
    "model_output = model.run()\n",
    "model_output.head(5)"
   ]
  },
  {
   "cell_type": "code",
   "execution_count": 16,
   "metadata": {},
   "outputs": [
    {
     "data": {
      "text/plain": [
       "['FINAL TIME',\n",
       " 'INITIAL TIME',\n",
       " 'SAVEPER',\n",
       " 'TIME STEP',\n",
       " 'Divorce rate',\n",
       " 'Societal factor',\n",
       " 'Scaled divorce',\n",
       " 'Marriage rate',\n",
       " 'Divorce',\n",
       " 'Population',\n",
       " 'Delay for recovery',\n",
       " 'Recovery',\n",
       " 'Divorced',\n",
       " 'Unmarried',\n",
       " 'K',\n",
       " 'Marriage',\n",
       " 'Married',\n",
       " 'Recovery rate',\n",
       " 'Education',\n",
       " 'W soc']"
      ]
     },
     "execution_count": 16,
     "metadata": {},
     "output_type": "execute_result"
    }
   ],
   "source": [
    "# list all stocks, variables and parameters of the model\n",
    "list(model_output)"
   ]
  },
  {
   "cell_type": "code",
   "execution_count": 17,
   "metadata": {},
   "outputs": [
    {
     "data": {
      "text/plain": [
       "<Axes: xlabel='Year'>"
      ]
     },
     "execution_count": 17,
     "metadata": {},
     "output_type": "execute_result"
    },
    {
     "data": {
      "image/png": "[encoded data removed]",
      "text/plain": [
       "<Figure size 640x480 with 1 Axes>"
      ]
     },
     "metadata": {},
     "output_type": "display_data"
    }
   ],
   "source": [
    "data = pd.read_csv(r'C:\\Users\\dimcp\\Documents\\MSD-Group-1\\US_2002.csv', sep=',', index_col='Year')\n",
    "data.plot()"
   ]
  },
  {
   "cell_type": "code",
   "execution_count": 38,
   "metadata": {},
   "outputs": [
    {
     "name": "stdout",
     "output_type": "stream",
     "text": [
      " message: Optimization terminated successfully\n",
      " success: True\n",
      "  status: 0\n",
      "     fun: 0.21870380663925934\n",
      "       x: [ 3.109e+00  5.892e-01  2.021e-03]\n",
      "     nit: 8\n",
      "     jac: [ 1.336e-02  2.484e-03 -1.806e+00]\n",
      "    nfev: 34\n",
      "    njev: 8\n"
     ]
    }
   ],
   "source": [
    "import scipy.optimize as opt\n",
    "import warnings\n",
    "warnings.filterwarnings(\"ignore\")\n",
    "# Your error function remains the same\n",
    "def error(param_list):\n",
    "    #unpack the parameter list\n",
    "    parameter1, parameter2, parameter3= param_list\n",
    "    #run the model with the new parameters, returning the info we're interested in\n",
    "    result = model.run(params={'K':parameter1,\n",
    "                               'W soc':parameter2,\n",
    "                               'Recovery Rate': parameter3\n",
    "                                },\n",
    "                       return_columns=['Divorce', 'Population'],\n",
    "                       return_timestamps=list(data.index.values))#return_timestamps=np.arange(2002, 2018, 1))\n",
    "    #return the sum of the squared errors\n",
    "    return sum((result['Divorce']/result['Population'] *1000- data['United States'])**2)\n",
    "\n",
    "\n",
    "# Initial guesses and bounds remain the same\n",
    "parameter1_guess = 0\n",
    "parameter2_guess = 0.5\n",
    "parameter3_guess = 0.8\n",
    "\n",
    "\n",
    "parameter1_bounds = (-4, 4)\n",
    "parameter2_bounds = (0, 1)\n",
    "parameter3_bounds = (0, 1)\n",
    "\n",
    "# Perform the optimization using SLSQP method\n",
    "res = opt.minimize(error, [parameter1_guess,\n",
    "                           parameter2_guess,\n",
    "                           parameter3_guess],\n",
    "                   method='SLSQP',\n",
    "                   bounds=[parameter1_bounds,\n",
    "                           parameter2_bounds,\n",
    "                           parameter3_bounds])\n",
    "\n",
    "# Print the result\n",
    "print(res)\n"
   ]
  },
  {
   "cell_type": "markdown",
   "metadata": {},
   "source": [
    "message: Optimization terminated successfully\n",
    " success: True\n",
    "  status: 0\n",
    "     fun: 0.21870380663925934\n",
    "       x: [ 3.109e+00  5.892e-01  2.021e-03]\n",
    "     nit: 8\n",
    "     jac: [ 1.336e-02  2.484e-03 -1.806e+00]\n",
    "    nfev: 34\n",
    "    njev: 8"
   ]
  },
  {
   "cell_type": "code",
   "execution_count": 40,
   "metadata": {},
   "outputs": [
    {
     "name": "stdout",
     "output_type": "stream",
     "text": [
      " message: Optimization terminated successfully\n",
      " success: True\n",
      "  status: 0\n",
      "     fun: 0.21870380663925934\n",
      "       x: [ 3.109e+00  5.892e-01  2.021e-03]\n",
      "     nit: 8\n",
      "     jac: [ 1.336e-02  2.484e-03 -1.806e+00]\n",
      "    nfev: 34\n",
      "    njev: 8\n"
     ]
    },
    {
     "data": {
      "text/plain": [
       "Text(2, 9000, '')"
      ]
     },
     "execution_count": 40,
     "metadata": {},
     "output_type": "execute_result"
    },
    {
     "data": {
      "image/png": "[encoded data removed]",
      "text/plain": [
       "<Figure size 640x480 with 1 Axes>"
      ]
     },
     "metadata": {},
     "output_type": "display_data"
    }
   ],
   "source": [
    "parameter1, parameter2, parameter3 = res.x\n",
    "print(res)\n",
    "result = model.run(params={'K':parameter1,\n",
    "                           'W soc':parameter2,\n",
    "                           'Recovery rate':parameter3},\n",
    "                   return_columns=['Divorce','Population','Scaled divorce'],\n",
    "                   return_timestamps=list(data.index.values))\n",
    "\n",
    "# print(result)\n",
    "\n",
    "plt.plot(result.index, result['Divorce']/result['Population'] *1000, label='Simulated')\n",
    "plt.plot(data.index, data['United States'], label='Historical')\n",
    "plt.xlabel('Time [Years]')\n",
    "plt.ylabel('Divorce per 1000')\n",
    "plt.title('Model fit to data after SA')\n",
    "plt.legend(loc='lower left')\n",
    "plt.text(2,9000, '', color='r', fontsize=12)"
   ]
  }
 ],
 "metadata": {
  "kernelspec": {
   "display_name": "Python 3 (ipykernel)",
   "language": "python",
   "name": "python3"
  },
  "language_info": {
   "codemirror_mode": {
    "name": "ipython",
    "version": 3
   },
   "file_extension": ".py",
   "mimetype": "text/x-python",
   "name": "python",
   "nbconvert_exporter": "python",
   "pygments_lexer": "ipython3",
   "version": "3.10.9"
  },
  "vscode": {
   "interpreter": {
    "hash": "a334dcf343fc20567253aab47b2e01789b39adc6f1e54bcc9222dfc256d5b0f9"
   }
  }
 },
 "nbformat": 4,
 "nbformat_minor": 4
}
