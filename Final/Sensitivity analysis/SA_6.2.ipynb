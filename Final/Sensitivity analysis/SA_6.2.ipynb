{
 "cells": [
  {
   "cell_type": "markdown",
   "metadata": {},
   "source": [
    "# 6.2"
   ]
  },
  {
   "cell_type": "code",
   "execution_count": 47,
   "metadata": {
    "scrolled": true
   },
   "outputs": [],
   "source": [
    "import pysd\n",
    "import matplotlib.pyplot as plt \n",
    "import numpy as np\n",
    "import pandas as pd\n",
    "import scipy as sp"
   ]
  },
  {
   "cell_type": "code",
   "execution_count": 2,
   "metadata": {},
   "outputs": [],
   "source": [
    "# load the Vensim model into Python\n",
    "model = pysd.read_vensim('./SFD_Group.mdl')"
   ]
  },
  {
   "cell_type": "code",
   "execution_count": 3,
   "metadata": {
    "scrolled": true
   },
   "outputs": [
    {
     "data": {
      "text/html": [
       "<div>\n",
       "<style scoped>\n",
       "    .dataframe tbody tr th:only-of-type {\n",
       "        vertical-align: middle;\n",
       "    }\n",
       "\n",
       "    .dataframe tbody tr th {\n",
       "        vertical-align: top;\n",
       "    }\n",
       "\n",
       "    .dataframe thead th {\n",
       "        text-align: right;\n",
       "    }\n",
       "</style>\n",
       "<table border=\"1\" class=\"dataframe\">\n",
       "  <thead>\n",
       "    <tr style=\"text-align: right;\">\n",
       "      <th></th>\n",
       "      <th>FINAL TIME</th>\n",
       "      <th>INITIAL TIME</th>\n",
       "      <th>SAVEPER</th>\n",
       "      <th>TIME STEP</th>\n",
       "      <th>Scaled divorce</th>\n",
       "      <th>Marriage rate</th>\n",
       "      <th>Delay for societal</th>\n",
       "      <th>Divorce</th>\n",
       "      <th>Societal factor</th>\n",
       "      <th>Population</th>\n",
       "      <th>...</th>\n",
       "      <th>Economic factor</th>\n",
       "      <th>Unmarried</th>\n",
       "      <th>K</th>\n",
       "      <th>Marriage</th>\n",
       "      <th>Married</th>\n",
       "      <th>Recovery rate</th>\n",
       "      <th>Divorce rate</th>\n",
       "      <th>Education</th>\n",
       "      <th>W eco</th>\n",
       "      <th>W soc</th>\n",
       "    </tr>\n",
       "  </thead>\n",
       "  <tbody>\n",
       "    <tr>\n",
       "      <th>1992.00</th>\n",
       "      <td>2018</td>\n",
       "      <td>1992</td>\n",
       "      <td>0.25</td>\n",
       "      <td>0.25</td>\n",
       "      <td>340.500009</td>\n",
       "      <td>0.123413</td>\n",
       "      <td>3</td>\n",
       "      <td>6.308103e+07</td>\n",
       "      <td>0.588623</td>\n",
       "      <td>185260000.0</td>\n",
       "      <td>...</td>\n",
       "      <td>0.53333</td>\n",
       "      <td>4.179500e+07</td>\n",
       "      <td>2.2</td>\n",
       "      <td>5.158054e+06</td>\n",
       "      <td>1.132950e+08</td>\n",
       "      <td>0.004</td>\n",
       "      <td>0.556786</td>\n",
       "      <td>0.9</td>\n",
       "      <td>0.649</td>\n",
       "      <td>0.338</td>\n",
       "    </tr>\n",
       "    <tr>\n",
       "      <th>1992.25</th>\n",
       "      <td>2018</td>\n",
       "      <td>1992</td>\n",
       "      <td>0.25</td>\n",
       "      <td>0.25</td>\n",
       "      <td>296.979169</td>\n",
       "      <td>0.123413</td>\n",
       "      <td>3</td>\n",
       "      <td>5.501836e+07</td>\n",
       "      <td>0.588623</td>\n",
       "      <td>185260000.0</td>\n",
       "      <td>...</td>\n",
       "      <td>0.53333</td>\n",
       "      <td>4.053566e+07</td>\n",
       "      <td>2.2</td>\n",
       "      <td>5.002634e+06</td>\n",
       "      <td>9.881426e+07</td>\n",
       "      <td>0.004</td>\n",
       "      <td>0.556786</td>\n",
       "      <td>0.9</td>\n",
       "      <td>0.649</td>\n",
       "      <td>0.338</td>\n",
       "    </tr>\n",
       "    <tr>\n",
       "      <th>1992.50</th>\n",
       "      <td>2018</td>\n",
       "      <td>1992</td>\n",
       "      <td>0.25</td>\n",
       "      <td>0.25</td>\n",
       "      <td>259.399497</td>\n",
       "      <td>0.123413</td>\n",
       "      <td>3</td>\n",
       "      <td>4.805635e+07</td>\n",
       "      <td>0.588623</td>\n",
       "      <td>185260000.0</td>\n",
       "      <td>...</td>\n",
       "      <td>0.53333</td>\n",
       "      <td>3.931517e+07</td>\n",
       "      <td>2.2</td>\n",
       "      <td>4.852010e+06</td>\n",
       "      <td>8.631032e+07</td>\n",
       "      <td>0.004</td>\n",
       "      <td>0.556786</td>\n",
       "      <td>0.9</td>\n",
       "      <td>0.649</td>\n",
       "      <td>0.338</td>\n",
       "    </tr>\n",
       "    <tr>\n",
       "      <th>1992.75</th>\n",
       "      <td>2018</td>\n",
       "      <td>1992</td>\n",
       "      <td>0.25</td>\n",
       "      <td>0.25</td>\n",
       "      <td>226.937609</td>\n",
       "      <td>0.123413</td>\n",
       "      <td>3</td>\n",
       "      <td>4.204246e+07</td>\n",
       "      <td>0.588623</td>\n",
       "      <td>185260000.0</td>\n",
       "      <td>...</td>\n",
       "      <td>0.53333</td>\n",
       "      <td>3.813365e+07</td>\n",
       "      <td>2.2</td>\n",
       "      <td>4.706194e+06</td>\n",
       "      <td>7.550924e+07</td>\n",
       "      <td>0.004</td>\n",
       "      <td>0.556786</td>\n",
       "      <td>0.9</td>\n",
       "      <td>0.649</td>\n",
       "      <td>0.338</td>\n",
       "    </tr>\n",
       "    <tr>\n",
       "      <th>1993.00</th>\n",
       "      <td>2018</td>\n",
       "      <td>1992</td>\n",
       "      <td>0.25</td>\n",
       "      <td>0.25</td>\n",
       "      <td>198.968492</td>\n",
       "      <td>0.123205</td>\n",
       "      <td>3</td>\n",
       "      <td>3.686090e+07</td>\n",
       "      <td>0.589316</td>\n",
       "      <td>185260000.0</td>\n",
       "      <td>...</td>\n",
       "      <td>0.53333</td>\n",
       "      <td>3.699093e+07</td>\n",
       "      <td>2.2</td>\n",
       "      <td>4.557469e+06</td>\n",
       "      <td>6.617517e+07</td>\n",
       "      <td>0.004</td>\n",
       "      <td>0.557020</td>\n",
       "      <td>0.9</td>\n",
       "      <td>0.649</td>\n",
       "      <td>0.338</td>\n",
       "    </tr>\n",
       "  </tbody>\n",
       "</table>\n",
       "<p>5 rows × 23 columns</p>\n",
       "</div>"
      ],
      "text/plain": [
       "         FINAL TIME  INITIAL TIME  SAVEPER  TIME STEP  Scaled divorce  \\\n",
       "1992.00        2018          1992     0.25       0.25      340.500009   \n",
       "1992.25        2018          1992     0.25       0.25      296.979169   \n",
       "1992.50        2018          1992     0.25       0.25      259.399497   \n",
       "1992.75        2018          1992     0.25       0.25      226.937609   \n",
       "1993.00        2018          1992     0.25       0.25      198.968492   \n",
       "\n",
       "         Marriage rate  Delay for societal       Divorce  Societal factor  \\\n",
       "1992.00       0.123413                   3  6.308103e+07         0.588623   \n",
       "1992.25       0.123413                   3  5.501836e+07         0.588623   \n",
       "1992.50       0.123413                   3  4.805635e+07         0.588623   \n",
       "1992.75       0.123413                   3  4.204246e+07         0.588623   \n",
       "1993.00       0.123205                   3  3.686090e+07         0.589316   \n",
       "\n",
       "          Population  ...  Economic factor     Unmarried    K      Marriage  \\\n",
       "1992.00  185260000.0  ...          0.53333  4.179500e+07  2.2  5.158054e+06   \n",
       "1992.25  185260000.0  ...          0.53333  4.053566e+07  2.2  5.002634e+06   \n",
       "1992.50  185260000.0  ...          0.53333  3.931517e+07  2.2  4.852010e+06   \n",
       "1992.75  185260000.0  ...          0.53333  3.813365e+07  2.2  4.706194e+06   \n",
       "1993.00  185260000.0  ...          0.53333  3.699093e+07  2.2  4.557469e+06   \n",
       "\n",
       "              Married  Recovery rate  Divorce rate  Education  W eco  W soc  \n",
       "1992.00  1.132950e+08          0.004      0.556786        0.9  0.649  0.338  \n",
       "1992.25  9.881426e+07          0.004      0.556786        0.9  0.649  0.338  \n",
       "1992.50  8.631032e+07          0.004      0.556786        0.9  0.649  0.338  \n",
       "1992.75  7.550924e+07          0.004      0.556786        0.9  0.649  0.338  \n",
       "1993.00  6.617517e+07          0.004      0.557020        0.9  0.649  0.338  \n",
       "\n",
       "[5 rows x 23 columns]"
      ]
     },
     "execution_count": 3,
     "metadata": {},
     "output_type": "execute_result"
    }
   ],
   "source": [
    "# run the model with default parameter values\n",
    "model_output = model.run()\n",
    "model_output.head(5)"
   ]
  },
  {
   "cell_type": "code",
   "execution_count": 4,
   "metadata": {},
   "outputs": [
    {
     "data": {
      "text/plain": [
       "['FINAL TIME',\n",
       " 'INITIAL TIME',\n",
       " 'SAVEPER',\n",
       " 'TIME STEP',\n",
       " 'Scaled divorce',\n",
       " 'Marriage rate',\n",
       " 'Delay for societal',\n",
       " 'Divorce',\n",
       " 'Societal factor',\n",
       " 'Population',\n",
       " 'Delay for recovery',\n",
       " 'Recovery',\n",
       " 'Divorced',\n",
       " 'Economic factor',\n",
       " 'Unmarried',\n",
       " 'K',\n",
       " 'Marriage',\n",
       " 'Married',\n",
       " 'Recovery rate',\n",
       " 'Divorce rate',\n",
       " 'Education',\n",
       " 'W eco',\n",
       " 'W soc']"
      ]
     },
     "execution_count": 4,
     "metadata": {},
     "output_type": "execute_result"
    }
   ],
   "source": [
    "# list all stocks, variables and parameters of the model\n",
    "list(model_output)"
   ]
  },
  {
   "cell_type": "code",
   "execution_count": 5,
   "metadata": {
    "scrolled": true
   },
   "outputs": [
    {
     "data": {
      "image/png": "[encoded data removed]",
      "text/plain": [
       "<Figure size 640x480 with 1 Axes>"
      ]
     },
     "metadata": {},
     "output_type": "display_data"
    }
   ],
   "source": [
    "# plot Divorce over time \n",
    "model_output = model.run(params={'Population': 185260000.0},\n",
    "                         return_timestamps=np.arange(1992, 2018, 1),\n",
    "                         return_columns=['Divorce'])\n",
    "model_output.plot()\n",
    "plt.ylabel('Divorce')\n",
    "plt.xlabel('K')\n",
    "plt.show()"
   ]
  },
  {
   "cell_type": "code",
   "execution_count": 50,
   "metadata": {},
   "outputs": [],
   "source": [
    "# vary the K and observe its impact on Divorce\n",
    "observable = 'Divorce'\n",
    "parameter1 = 'K'\n",
    "parameter1_range = np.arange(-4, 4.1, 0.01)\n",
    "\n",
    "# lists to store output values\n",
    "parameter1_values = []\n",
    "observable_values = []\n",
    "\n",
    "# go through all values of parameter 1\n",
    "for parameter1_value in parameter1_range:\n",
    "    \n",
    "    # this can be adjusted to achieve more repetitions\n",
    "    for i in np.arange(0, 1, 1):\n",
    "\n",
    "        # run the model at the given value for parameter 1\n",
    "        result = model.run(params={parameter1: parameter1_value}, \n",
    "                           return_timestamps=[2018],\n",
    "                           return_columns=[observable])\n",
    "\n",
    "        # store results\n",
    "        parameter1_values.append(parameter1_value)\n",
    "        observable_values.append(result.loc[2018, observable])\n",
    "\n",
    "# collect results in a DataFrame\n",
    "output = pd.DataFrame({parameter1: parameter1_values, observable: observable_values})"
   ]
  },
  {
   "cell_type": "code",
   "execution_count": 51,
   "metadata": {},
   "outputs": [
    {
     "data": {
      "text/html": [
       "<div>\n",
       "<style scoped>\n",
       "    .dataframe tbody tr th:only-of-type {\n",
       "        vertical-align: middle;\n",
       "    }\n",
       "\n",
       "    .dataframe tbody tr th {\n",
       "        vertical-align: top;\n",
       "    }\n",
       "\n",
       "    .dataframe thead th {\n",
       "        text-align: right;\n",
       "    }\n",
       "</style>\n",
       "<table border=\"1\" class=\"dataframe\">\n",
       "  <thead>\n",
       "    <tr style=\"text-align: right;\">\n",
       "      <th></th>\n",
       "      <th>Divorce</th>\n",
       "    </tr>\n",
       "    <tr>\n",
       "      <th>K</th>\n",
       "      <th></th>\n",
       "    </tr>\n",
       "  </thead>\n",
       "  <tbody>\n",
       "    <tr>\n",
       "      <th>-4.00</th>\n",
       "      <td>736124.624739</td>\n",
       "    </tr>\n",
       "    <tr>\n",
       "      <th>-3.99</th>\n",
       "      <td>736150.165228</td>\n",
       "    </tr>\n",
       "    <tr>\n",
       "      <th>-3.98</th>\n",
       "      <td>736175.833766</td>\n",
       "    </tr>\n",
       "    <tr>\n",
       "      <th>-3.97</th>\n",
       "      <td>736201.631450</td>\n",
       "    </tr>\n",
       "    <tr>\n",
       "      <th>-3.96</th>\n",
       "      <td>736227.559389</td>\n",
       "    </tr>\n",
       "    <tr>\n",
       "      <th>...</th>\n",
       "      <td>...</td>\n",
       "    </tr>\n",
       "    <tr>\n",
       "      <th>4.05</th>\n",
       "      <td>350188.451351</td>\n",
       "    </tr>\n",
       "    <tr>\n",
       "      <th>4.06</th>\n",
       "      <td>348347.543962</td>\n",
       "    </tr>\n",
       "    <tr>\n",
       "      <th>4.07</th>\n",
       "      <td>346513.086249</td>\n",
       "    </tr>\n",
       "    <tr>\n",
       "      <th>4.08</th>\n",
       "      <td>344685.094174</td>\n",
       "    </tr>\n",
       "    <tr>\n",
       "      <th>4.09</th>\n",
       "      <td>342863.583121</td>\n",
       "    </tr>\n",
       "  </tbody>\n",
       "</table>\n",
       "<p>810 rows × 1 columns</p>\n",
       "</div>"
      ],
      "text/plain": [
       "             Divorce\n",
       "K                   \n",
       "-4.00  736124.624739\n",
       "-3.99  736150.165228\n",
       "-3.98  736175.833766\n",
       "-3.97  736201.631450\n",
       "-3.96  736227.559389\n",
       "...              ...\n",
       " 4.05  350188.451351\n",
       " 4.06  348347.543962\n",
       " 4.07  346513.086249\n",
       " 4.08  344685.094174\n",
       " 4.09  342863.583121\n",
       "\n",
       "[810 rows x 1 columns]"
      ]
     },
     "execution_count": 51,
     "metadata": {},
     "output_type": "execute_result"
    }
   ],
   "source": [
    "# print the (average) \n",
    "output.groupby(parameter1).mean()"
   ]
  },
  {
   "cell_type": "code",
   "execution_count": 52,
   "metadata": {
    "scrolled": false
   },
   "outputs": [
    {
     "data": {
      "image/png": "[encoded data removed]",
      "text/plain": [
       "<Figure size 640x480 with 1 Axes>"
      ]
     },
     "metadata": {},
     "output_type": "display_data"
    }
   ],
   "source": [
    "# plot the observable as a function of the parameter values\n",
    "output.groupby(parameter1).mean().plot()\n",
    "plt.show()"
   ]
  }
 ],
 "metadata": {
  "kernelspec": {
   "display_name": "Python 3 (ipykernel)",
   "language": "python",
   "name": "python3"
  },
  "language_info": {
   "codemirror_mode": {
    "name": "ipython",
    "version": 3
   },
   "file_extension": ".py",
   "mimetype": "text/x-python",
   "name": "python",
   "nbconvert_exporter": "python",
   "pygments_lexer": "ipython3",
   "version": "3.11.5"
  },
  "vscode": {
   "interpreter": {
    "hash": "a334dcf343fc20567253aab47b2e01789b39adc6f1e54bcc9222dfc256d5b0f9"
   }
  }
 },
 "nbformat": 4,
 "nbformat_minor": 4
}
