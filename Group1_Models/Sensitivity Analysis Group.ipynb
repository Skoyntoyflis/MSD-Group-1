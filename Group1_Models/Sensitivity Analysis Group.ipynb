{
 "cells": [
  {
   "cell_type": "markdown",
   "metadata": {},
   "source": [
    "# 3.8 Sensitivity analysis"
   ]
  },
  {
   "cell_type": "markdown",
   "metadata": {},
   "source": [
    "In this Notebook we are going to load the Disease model, execute it with different parameter values and test the impact on different parameters in different outputs.\n",
    "\n",
    "- To load and run the Vensim model we use PySD library, please check the following tutorial before continuing: https://pysd.readthedocs.io/en/master/basic_usage.html#\n",
    "- Model run's output are Pandas Data Frames, please refer to the Pandas documentation if you need additional insights and supported data operations: https://pandas.pydata.org/pandas-docs/stable/user_guide/index.html#user-guide. \n",
    "There is also a 10min tutorial available that might be of your interest: https://pandas.pydata.org/pandas-docs/stable/user_guide/10min.html\n",
    "- We implemented the plots using matplotlib, if you need additional information please refer to the following documentation: https://matplotlib.org/stable/contents.html\n",
    "- For calculating sensitivity indices we used SALib. A basic tutorial can be found here: https://salib.readthedocs.io/en/latest/ "
   ]
  },
  {
   "cell_type": "code",
   "execution_count": null,
   "metadata": {},
   "outputs": [],
   "source": [
    "# %pip install pysd==3.7.1 -q\n",
    "# %pip install netCDF4==1.6.1 -q\n",
    "# %pip install SALib==1.4.5 -q\n",
    "# %pip install pysd"
   ]
  },
  {
   "cell_type": "code",
   "execution_count": 1,
   "metadata": {
    "scrolled": true
   },
   "outputs": [],
   "source": [
    "import warnings\n",
    "import scipy as sp\n",
    "import matplotlib.pyplot as plt\n",
    "import numpy as np\n",
    "import pandas as pd\n",
    "import pysd \n",
    "from SALib.sample import saltelli\n",
    "from SALib.analyze import sobol"
   ]
  },
  {
   "cell_type": "code",
   "execution_count": 2,
   "metadata": {},
   "outputs": [],
   "source": [
    "# load the model using PySD\n",
    "# make sure the model file is in the same folder as the notebook\n",
    "model = pysd.read_vensim(r'SFD_Group.mdl')"
   ]
  },
  {
   "cell_type": "code",
   "execution_count": 3,
   "metadata": {
    "scrolled": true
   },
   "outputs": [
    {
     "data": {
      "text/html": [
       "<div>\n",
       "<style scoped>\n",
       "    .dataframe tbody tr th:only-of-type {\n",
       "        vertical-align: middle;\n",
       "    }\n",
       "\n",
       "    .dataframe tbody tr th {\n",
       "        vertical-align: top;\n",
       "    }\n",
       "\n",
       "    .dataframe thead th {\n",
       "        text-align: right;\n",
       "    }\n",
       "</style>\n",
       "<table border=\"1\" class=\"dataframe\">\n",
       "  <thead>\n",
       "    <tr style=\"text-align: right;\">\n",
       "      <th></th>\n",
       "      <th>FINAL TIME</th>\n",
       "      <th>INITIAL TIME</th>\n",
       "      <th>SAVEPER</th>\n",
       "      <th>TIME STEP</th>\n",
       "      <th>Scaled divorce</th>\n",
       "      <th>Marriage rate</th>\n",
       "      <th>Delay for societal</th>\n",
       "      <th>Divorce</th>\n",
       "      <th>Societal factor</th>\n",
       "      <th>Population</th>\n",
       "      <th>...</th>\n",
       "      <th>Economic factor</th>\n",
       "      <th>Unmarried</th>\n",
       "      <th>K</th>\n",
       "      <th>Marriage</th>\n",
       "      <th>Married</th>\n",
       "      <th>Recovery rate</th>\n",
       "      <th>Divorce rate</th>\n",
       "      <th>Education</th>\n",
       "      <th>W eco</th>\n",
       "      <th>W soc</th>\n",
       "    </tr>\n",
       "  </thead>\n",
       "  <tbody>\n",
       "    <tr>\n",
       "      <th>1992.00</th>\n",
       "      <td>2018</td>\n",
       "      <td>1992</td>\n",
       "      <td>0.25</td>\n",
       "      <td>0.25</td>\n",
       "      <td>340.500009</td>\n",
       "      <td>0.123413</td>\n",
       "      <td>3</td>\n",
       "      <td>6.308103e+07</td>\n",
       "      <td>0.588623</td>\n",
       "      <td>185260000.0</td>\n",
       "      <td>...</td>\n",
       "      <td>0.53333</td>\n",
       "      <td>4.179500e+07</td>\n",
       "      <td>2.2</td>\n",
       "      <td>5.158054e+06</td>\n",
       "      <td>1.132950e+08</td>\n",
       "      <td>0.004</td>\n",
       "      <td>0.556786</td>\n",
       "      <td>0.9</td>\n",
       "      <td>0.649</td>\n",
       "      <td>0.338</td>\n",
       "    </tr>\n",
       "    <tr>\n",
       "      <th>1992.25</th>\n",
       "      <td>2018</td>\n",
       "      <td>1992</td>\n",
       "      <td>0.25</td>\n",
       "      <td>0.25</td>\n",
       "      <td>296.979169</td>\n",
       "      <td>0.123413</td>\n",
       "      <td>3</td>\n",
       "      <td>5.501836e+07</td>\n",
       "      <td>0.588623</td>\n",
       "      <td>185260000.0</td>\n",
       "      <td>...</td>\n",
       "      <td>0.53333</td>\n",
       "      <td>4.053566e+07</td>\n",
       "      <td>2.2</td>\n",
       "      <td>5.002634e+06</td>\n",
       "      <td>9.881426e+07</td>\n",
       "      <td>0.004</td>\n",
       "      <td>0.556786</td>\n",
       "      <td>0.9</td>\n",
       "      <td>0.649</td>\n",
       "      <td>0.338</td>\n",
       "    </tr>\n",
       "    <tr>\n",
       "      <th>1992.50</th>\n",
       "      <td>2018</td>\n",
       "      <td>1992</td>\n",
       "      <td>0.25</td>\n",
       "      <td>0.25</td>\n",
       "      <td>259.399497</td>\n",
       "      <td>0.123413</td>\n",
       "      <td>3</td>\n",
       "      <td>4.805635e+07</td>\n",
       "      <td>0.588623</td>\n",
       "      <td>185260000.0</td>\n",
       "      <td>...</td>\n",
       "      <td>0.53333</td>\n",
       "      <td>3.931517e+07</td>\n",
       "      <td>2.2</td>\n",
       "      <td>4.852010e+06</td>\n",
       "      <td>8.631032e+07</td>\n",
       "      <td>0.004</td>\n",
       "      <td>0.556786</td>\n",
       "      <td>0.9</td>\n",
       "      <td>0.649</td>\n",
       "      <td>0.338</td>\n",
       "    </tr>\n",
       "    <tr>\n",
       "      <th>1992.75</th>\n",
       "      <td>2018</td>\n",
       "      <td>1992</td>\n",
       "      <td>0.25</td>\n",
       "      <td>0.25</td>\n",
       "      <td>226.937609</td>\n",
       "      <td>0.123413</td>\n",
       "      <td>3</td>\n",
       "      <td>4.204246e+07</td>\n",
       "      <td>0.588623</td>\n",
       "      <td>185260000.0</td>\n",
       "      <td>...</td>\n",
       "      <td>0.53333</td>\n",
       "      <td>3.813365e+07</td>\n",
       "      <td>2.2</td>\n",
       "      <td>4.706194e+06</td>\n",
       "      <td>7.550924e+07</td>\n",
       "      <td>0.004</td>\n",
       "      <td>0.556786</td>\n",
       "      <td>0.9</td>\n",
       "      <td>0.649</td>\n",
       "      <td>0.338</td>\n",
       "    </tr>\n",
       "    <tr>\n",
       "      <th>1993.00</th>\n",
       "      <td>2018</td>\n",
       "      <td>1992</td>\n",
       "      <td>0.25</td>\n",
       "      <td>0.25</td>\n",
       "      <td>198.968492</td>\n",
       "      <td>0.123205</td>\n",
       "      <td>3</td>\n",
       "      <td>3.686090e+07</td>\n",
       "      <td>0.589316</td>\n",
       "      <td>185260000.0</td>\n",
       "      <td>...</td>\n",
       "      <td>0.53333</td>\n",
       "      <td>3.699093e+07</td>\n",
       "      <td>2.2</td>\n",
       "      <td>4.557469e+06</td>\n",
       "      <td>6.617517e+07</td>\n",
       "      <td>0.004</td>\n",
       "      <td>0.557020</td>\n",
       "      <td>0.9</td>\n",
       "      <td>0.649</td>\n",
       "      <td>0.338</td>\n",
       "    </tr>\n",
       "  </tbody>\n",
       "</table>\n",
       "<p>5 rows × 23 columns</p>\n",
       "</div>"
      ],
      "text/plain": [
       "         FINAL TIME  INITIAL TIME  SAVEPER  TIME STEP  Scaled divorce  \\\n",
       "1992.00        2018          1992     0.25       0.25      340.500009   \n",
       "1992.25        2018          1992     0.25       0.25      296.979169   \n",
       "1992.50        2018          1992     0.25       0.25      259.399497   \n",
       "1992.75        2018          1992     0.25       0.25      226.937609   \n",
       "1993.00        2018          1992     0.25       0.25      198.968492   \n",
       "\n",
       "         Marriage rate  Delay for societal       Divorce  Societal factor  \\\n",
       "1992.00       0.123413                   3  6.308103e+07         0.588623   \n",
       "1992.25       0.123413                   3  5.501836e+07         0.588623   \n",
       "1992.50       0.123413                   3  4.805635e+07         0.588623   \n",
       "1992.75       0.123413                   3  4.204246e+07         0.588623   \n",
       "1993.00       0.123205                   3  3.686090e+07         0.589316   \n",
       "\n",
       "          Population  ...  Economic factor     Unmarried    K      Marriage  \\\n",
       "1992.00  185260000.0  ...          0.53333  4.179500e+07  2.2  5.158054e+06   \n",
       "1992.25  185260000.0  ...          0.53333  4.053566e+07  2.2  5.002634e+06   \n",
       "1992.50  185260000.0  ...          0.53333  3.931517e+07  2.2  4.852010e+06   \n",
       "1992.75  185260000.0  ...          0.53333  3.813365e+07  2.2  4.706194e+06   \n",
       "1993.00  185260000.0  ...          0.53333  3.699093e+07  2.2  4.557469e+06   \n",
       "\n",
       "              Married  Recovery rate  Divorce rate  Education  W eco  W soc  \n",
       "1992.00  1.132950e+08          0.004      0.556786        0.9  0.649  0.338  \n",
       "1992.25  9.881426e+07          0.004      0.556786        0.9  0.649  0.338  \n",
       "1992.50  8.631032e+07          0.004      0.556786        0.9  0.649  0.338  \n",
       "1992.75  7.550924e+07          0.004      0.556786        0.9  0.649  0.338  \n",
       "1993.00  6.617517e+07          0.004      0.557020        0.9  0.649  0.338  \n",
       "\n",
       "[5 rows x 23 columns]"
      ]
     },
     "execution_count": 3,
     "metadata": {},
     "output_type": "execute_result"
    }
   ],
   "source": [
    "# run the model\n",
    "model_output = model.run()\n",
    "model_output.head(5)"
   ]
  },
  {
   "cell_type": "code",
   "execution_count": 17,
   "metadata": {},
   "outputs": [
    {
     "data": {
      "text/plain": [
       "['FINAL TIME',\n",
       " 'INITIAL TIME',\n",
       " 'SAVEPER',\n",
       " 'TIME STEP',\n",
       " 'Marriage rate',\n",
       " 'Delay for societal',\n",
       " 'Divorce',\n",
       " 'Societal factor',\n",
       " 'Population',\n",
       " 'Delay for recovery',\n",
       " 'Recovery',\n",
       " 'Divorced',\n",
       " 'Economic factor',\n",
       " 'Unmarried',\n",
       " 'K',\n",
       " 'Marriage',\n",
       " 'Married',\n",
       " 'Recovery rate',\n",
       " 'Divorce rate',\n",
       " 'Education',\n",
       " 'W eco',\n",
       " 'W soc']"
      ]
     },
     "execution_count": 17,
     "metadata": {},
     "output_type": "execute_result"
    }
   ],
   "source": [
    "# list variables and parameters in the model\n",
    "list(model_output)"
   ]
  },
  {
   "cell_type": "markdown",
   "metadata": {},
   "source": [
    "## Calculation of sensitivity indices"
   ]
  },
  {
   "cell_type": "code",
   "execution_count": 46,
   "metadata": {},
   "outputs": [],
   "source": [
    "# load the model using PySD\n",
    "# make sure the model file is in the same folder as the notebook\n",
    "model = pysd.read_vensim(r'SFD_Group.mdl')"
   ]
  },
  {
   "cell_type": "code",
   "execution_count": 4,
   "metadata": {},
   "outputs": [],
   "source": [
    "observable = 'Divorce'\n",
    "parameter1 = 'W eco'\n",
    "parameter2 = 'W soc'\n",
    "parameter3 = 'K'\n",
    "parameter4 = 'Recovery rate'\n",
    "parameter5 =  'Delay for societal'\n",
    "timetoobserve = 2018\n",
    "\n",
    "\n",
    "parameter1_vals = []\n",
    "parameter2_vals = []\n",
    "parameter3_vals = []\n",
    "parameter4_vals = []\n",
    "parameter5_vals = []\n",
    "observable_vals = []\n",
    "\n",
    "# loop over different values of total W eco\n",
    "for param1_val in np.arange(0., 1.0, 0.1):\n",
    "\n",
    "    # loop over different values of W soc\n",
    "    for param2_val in np.arange(0., 1-param1_val+0.1, 0.1):\n",
    "\n",
    "        # loop over different values of K\n",
    "            for param3_val in np.arange(-5., 10.8, 0.8):\n",
    "                \n",
    "                # loop over different values of Recovery rate\n",
    "                for param4_val in np.arange(0., 1.1, 0.1):\n",
    "                    \n",
    "                    # loop over different values of delay of societal\n",
    "                    for param5_val in np.arange(0., 20, 1):\n",
    "\n",
    "                        # multiple repetitions for each parameter combination\n",
    "                        for i in np.arange(0, 1, 1):\n",
    "\n",
    "                            # run the model with the current parameter combination\n",
    "                            # the following two lines hide warnings which we don't want to see\n",
    "                            with warnings.catch_warnings():\n",
    "                                warnings.filterwarnings('ignore')\n",
    "                                result = model.run(params={parameter1: param1_val,\n",
    "                                                        parameter2: param2_val,\n",
    "                                                        parameter3: param3_val,\n",
    "                                                        parameter4: param4_val,\n",
    "                                                        parameter5:param5_val},\n",
    "                                                return_timestamps=[timetoobserve],\n",
    "                                                return_columns=[observable,'Population'])\n",
    "\n",
    "                            # store results\n",
    "                            parameter1_vals.append(param1_val)\n",
    "                            parameter2_vals.append(param2_val)\n",
    "                            parameter3_vals.append(param3_val)\n",
    "                            parameter4_vals.append(param4_val)\n",
    "                            parameter5_vals.append(param5_val)\n",
    "                            observable_vals.append(result.loc[timetoobserve, observable])\n",
    "\n",
    "# collect results into a DataFrame\n",
    "output = pd.DataFrame({parameter1: parameter1_vals,\n",
    "                       parameter2: parameter2_vals,\n",
    "                       parameter3: parameter3_vals,\n",
    "                       parameter4: parameter4_vals,\n",
    "                       parameter5: parameter5_vals,\n",
    "                       observable: observable_vals})"
   ]
  },
  {
   "cell_type": "code",
   "execution_count": 6,
   "metadata": {},
   "outputs": [
    {
     "name": "stdout",
     "output_type": "stream",
     "text": [
      "Total variance on day 10 in Divorce: 40518413043369.0234\n",
      "An estimate of the first-order sensitivity index of W eco on day 10 is 0.0003\n",
      "An estimate of the first-order sensitivity index of W soc on day 10 is 0.0029\n",
      "An estimate of the first-order sensitivity index of K on day 10 is 0.2324\n",
      "An estimate of the first-order sensitivity index of Recovery rate on day 10 is 0.7090\n",
      "An estimate of the first-order sensitivity index of Delay for societal on day 10 is 0.0002\n"
     ]
    }
   ],
   "source": [
    "# variance of the observable across all parameter combinations\n",
    "observable_var = output.var(ddof=0)[observable]\n",
    "print(f'Total variance on day 10 in {observable}: {observable_var:.4f}')\n",
    "\n",
    "# sensitivity index for parameter 1\n",
    "param1_ind = output.groupby(parameter1).mean().var(ddof=0)[observable]/observable_var\n",
    "print(f'An estimate of the first-order sensitivity index of {parameter1} on day 10 is {param1_ind:.4f}')\n",
    "\n",
    "# sensitivity index for parameter 2\n",
    "param2_ind = output.groupby(parameter2).mean().var(ddof=0)[observable]/observable_var\n",
    "print(f'An estimate of the first-order sensitivity index of {parameter2} on day 10 is {param2_ind:.4f}')\n",
    "\n",
    "\n",
    "# sensitivity index for parameter 3\n",
    "param3_ind = output.groupby(parameter3).mean().var(ddof=0)[observable]/observable_var\n",
    "print(f'An estimate of the first-order sensitivity index of {parameter3} on day 10 is {param3_ind:.4f}')\n",
    "\n",
    "# sensitivity index for parameter 4\n",
    "param4_ind = output.groupby(parameter4).mean().var(ddof=0)[observable]/observable_var\n",
    "print(f'An estimate of the first-order sensitivity index of {parameter4} on day 10 is {param4_ind:.4f}')\n",
    "\n",
    "# sensitivity index for parameter 5\n",
    "param5_ind = output.groupby(parameter5).mean().var(ddof=0)[observable]/observable_var\n",
    "print(f'An estimate of the first-order sensitivity index of {parameter5} on day 10 is {param5_ind:.4f}')"
   ]
  },
  {
   "cell_type": "markdown",
   "metadata": {},
   "source": [
    "## Calculation of sensitivity indices using SALib"
   ]
  },
  {
   "cell_type": "code",
   "execution_count": 14,
   "metadata": {},
   "outputs": [],
   "source": [
    "# define problem for determining the sensitivity indices using SALib\n",
    "problem = {\n",
    "    'num_vars': 5,\n",
    "    'names': ['W eco', 'W soc','K','Recovery rate', 'Delay for societal'], #,'Maximum'\n",
    "    'bounds': [[0, 1],\n",
    "               [0, 1],\n",
    "               [-5, 10],\n",
    "               [0, 1],\n",
    "               [0.5, 20]]\n",
    "}\n",
    "\n",
    "# calculate sample points used for sensitivity analysis\n",
    "param_values = saltelli.sample(problem, 128, calc_second_order=False)\n",
    "\n",
    "# Ensure the sum of 'W eco' and 'W soc' does not exceed 1\n",
    "for i in range(param_values.shape[0]):\n",
    "    param_values[i, 0] = min(param_values[i, 0], 1 - param_values[i, 1])"
   ]
  },
  {
   "cell_type": "code",
   "execution_count": 15,
   "metadata": {},
   "outputs": [],
   "source": [
    "# array for observable values\n",
    "Y = np.zeros([param_values.shape[0]])\n",
    "timetoobserve = 2018\n",
    "\n",
    "# loop through all parameter combinations in the sample\n",
    "for i, X in enumerate(param_values):\n",
    "    param1_val, param2_val, param3_val, param4_val, param5_val = X\n",
    "\n",
    "    # store observable value at this parameter combination\n",
    "    # again, we want to ignore warnings\n",
    "    with warnings.catch_warnings():\n",
    "        warnings.filterwarnings('ignore')\n",
    "        Y[i] = model.run(params={parameter1: param1_val, parameter2: param2_val,\n",
    "                                parameter3: param3_val, parameter4: param4_val,\n",
    "                                parameter5: param5_val},\n",
    "                         return_timestamps=[timetoobserve],\n",
    "                         return_columns=[observable]).loc[timetoobserve, observable]\n"
   ]
  },
  {
   "cell_type": "code",
   "execution_count": 16,
   "metadata": {},
   "outputs": [
    {
     "name": "stdout",
     "output_type": "stream",
     "text": [
      "                          ST   ST_conf\n",
      "W eco               0.003195  0.001570\n",
      "W soc               0.013437  0.007333\n",
      "K                   0.282145  0.076146\n",
      "Recovery rate       0.697511  0.169429\n",
      "Delay for societal  0.017451  0.011681\n",
      "                          S1   S1_conf\n",
      "W eco               0.002683  0.014104\n",
      "W soc               0.030359  0.035811\n",
      "K                   0.304157  0.121289\n",
      "Recovery rate       0.588671  0.240298\n",
      "Delay for societal -0.002908  0.039763\n"
     ]
    }
   ],
   "source": [
    "# perform calculation of sensitivity indices\n",
    "Si = sobol.analyze(problem, Y, calc_second_order=False, print_to_console=True)"
   ]
  },
  {
   "cell_type": "code",
   "execution_count": 17,
   "metadata": {},
   "outputs": [
    {
     "data": {
      "text/plain": [
       "array([<Axes: >, <Axes: >], dtype=object)"
      ]
     },
     "execution_count": 17,
     "metadata": {},
     "output_type": "execute_result"
    },
    {
     "data": {
      "image/png": "[encoded data removed]",
      "text/plain": [
       "<Figure size 640x480 with 2 Axes>"
      ]
     },
     "metadata": {},
     "output_type": "display_data"
    }
   ],
   "source": [
    "Si.plot()"
   ]
  }
 ],
 "metadata": {
  "kernelspec": {
   "display_name": "Python 3 (ipykernel)",
   "language": "python",
   "name": "python3"
  },
  "language_info": {
   "codemirror_mode": {
    "name": "ipython",
    "version": 3
   },
   "file_extension": ".py",
   "mimetype": "text/x-python",
   "name": "python",
   "nbconvert_exporter": "python",
   "pygments_lexer": "ipython3",
   "version": "3.11.5"
  },
  "vscode": {
   "interpreter": {
    "hash": "a334dcf343fc20567253aab47b2e01789b39adc6f1e54bcc9222dfc256d5b0f9"
   }
  }
 },
 "nbformat": 4,
 "nbformat_minor": 4
}
